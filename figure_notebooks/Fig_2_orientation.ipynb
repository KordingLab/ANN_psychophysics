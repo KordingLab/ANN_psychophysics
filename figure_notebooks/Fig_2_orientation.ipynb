{
 "cells": [
  {
   "cell_type": "markdown",
   "metadata": {},
   "source": [
    "# Sensitivity to orientation of deep networks\n",
    "\n",
    "This notebook reproduces subpanels of Fig 2, and also the supplementary material showing controls.\n",
    "\n",
    "All trained networks are downloaded from Torchvision's distribution. In the controls, some networks are trained on a modified (rotated) version of ImageNet. Training scripts can be found in `train_rotated.py`. \n",
    "\n",
    "This script can be easily modified to test the orientation sensitivity of any Torchvision network. Simply change the 'model' in the relevant cell."
   ]
  },
  {
   "cell_type": "code",
   "execution_count": null,
   "metadata": {},
   "outputs": [],
   "source": [
    "import numpy as np\n",
    "import torch\n",
    "from matplotlib import pyplot as plt\n",
    "import pickle\n",
    "import pandas as pd\n",
    "%matplotlib inline\n",
    "\n",
    "from tqdm import tqdm as tqdm\n",
    "from matplotlib import cm\n",
    "import matplotlib as mpl\n",
    "\n",
    "import seaborn as sns\n",
    "\n",
    "plt.style.use('seaborn-white', )\n",
    "plt.rcParams['axes.labelsize'] =  25\n",
    "plt.rcParams['ytick.labelsize'] = 15.0\n",
    "plt.rcParams['xtick.labelsize'] = 15.0\n",
    "plt.rcParams['pdf.fonttype'] = 42\n",
    "plt.rcParams['ps.fonttype'] = 42\n",
    "\n",
    "import sys\n",
    "sys.path.insert(0, \"..\")\n",
    "\n",
    "\n",
    "from scripts.fisher_calculators import get_fisher_orientations\n",
    "from scripts.orientation_stim import broadband_noise, gabor, grating, circular_mask\n",
    "from torchvision import models, transforms, utils"
   ]
  },
  {
   "cell_type": "markdown",
   "metadata": {},
   "source": [
    "\n",
    "##### Define some generators to get Fisher for."
   ]
  },
  {
   "cell_type": "code",
   "execution_count": null,
   "metadata": {},
   "outputs": [],
   "source": [
    "a = np.pi/4\n",
    "generator_gabor = lambda a: torch.from_numpy(gabor(size=224, pixelsPerDegree=100, spatial_freq=2, spatial_phase=.1,\n",
    "          orientation=-a-np.pi/2, contrast=1, sigma=.5, spatial_aspect_ratio=1)).expand(3,224,224)\n",
    "plt.imshow(generator_gabor(a)[0])\n",
    "plt.axis('off')\n",
    "\n",
    "plt.show()\n",
    "\n",
    "\n",
    "mask = circular_mask(224, 100, radius = 1, polarity_out=0,polarity_in=1,\n",
    "                     if_filtered=True, filter_size=(50, 50), filter_width=5)\n",
    "generator_grating = lambda a: torch.from_numpy(np.multiply(\n",
    "                            grating(size=224, pixelsPerDegree=100, spatial_freq=3, spatial_phase=0,\n",
    "            orientation=a, contrast=1),mask)).expand(3,224,224)\n",
    "plt.imshow(generator_grating(a)[0])\n",
    "plt.axis('off')\n",
    "plt.show()\n"
   ]
  },
  {
   "cell_type": "markdown",
   "metadata": {},
   "source": [
    "$+\\Delta\\theta$"
   ]
  },
  {
   "cell_type": "code",
   "execution_count": null,
   "metadata": {},
   "outputs": [],
   "source": [
    "def generator_gabor(a, spatial_freq=2, spatial_phase=0):\n",
    "    return torch.from_numpy(gabor(size=224, pixelsPerDegree=100, spatial_freq=spatial_freq,\n",
    "                                                   spatial_phase=spatial_phase,\n",
    "              orientation=-a-np.pi/2, contrast=1, sigma=.5, spatial_aspect_ratio=1)).expand(3,224,224)"
   ]
  },
  {
   "cell_type": "code",
   "execution_count": null,
   "metadata": {},
   "outputs": [],
   "source": [
    "\n",
    "\n",
    "def plot_fisher(model, title, N=10, n_angles=40, n_phases=1, generator=None, scale=None, savefig=None):\n",
    "    cs = sns.color_palette('plasma', N)\n",
    "    cmap = mpl.colors.LinearSegmentedColormap.from_list(\n",
    "        'Custom cmap', cs, len(cs))\n",
    "\n",
    "    for i in tqdm(range(N)):\n",
    "        sqrt_fishers_resnet = np.sqrt(torch.stack(get_fisher_orientations(model,i,n_angles, n_images=n_phases,\n",
    "                                                              generator=generator_gabor, delta=1e-2)).cpu().numpy())\n",
    "        normed =  sqrt_fishers_resnet/np.sum(sqrt_fishers_resnet)\n",
    "        plt.plot(np.linspace(0, 180, n_angles),normed,\"-\", label = \"Layer {}\".format(i+1),c=cs[i])\n",
    "    plt.ylim(bottom=0, top = max(max(normed),2*np.mean(normed)))\n",
    "    plt.ylabel(r\"$\\sqrt{J(\\theta)}$ (normalized)\", fontsize = 15)\n",
    "    plt.xlabel(\"Angle (º)\", fontsize = 15)\n",
    "\n",
    "    plt.xticks(np.linspace(0,180,5))\n",
    "    #     plt.title(\"Layer {}\".format(i), fontsize=15)\n",
    "    #     plt.show()\n",
    "\n",
    "    if scale is not None:\n",
    "        plt.ylim(scale)\n",
    "\n",
    "    plt.title(title, fontsize=20)\n",
    "    clb = plt.colorbar(cm.ScalarMappable(norm=mpl.colors.Normalize(vmin=0, vmax=N), cmap=cmap))\n",
    "    clb.ax.set_title('Layer')\n",
    "    plt.tight_layout()\n",
    "    if savefig is not None:\n",
    "        plt.savefig(savefig)\n",
    "    plt.show()\n",
    "    \n",
    "def shuffle_all_weights(model):\n",
    "    \"\"\"Note: this destroys the model. In-place\"\"\"\n",
    "    for m in model.parameters():\n",
    "        \n",
    "        #look at Conv2d\n",
    "        if len(m.data.size()) > 3:\n",
    "            n_channels = m.data.size()[0]\n",
    "            \n",
    "            for row in range(m.data.size()[2]):\n",
    "                for col in range(m.data.size()[3]):\n",
    "                    \n",
    "                    # make it so each \n",
    "                    idx = torch.randperm(n_channels)\n",
    "                    m.data[:,:,row,col] = m.data[idx,:,row,col]\n",
    "                    \n",
    "        elif len(m.data.size()) == 2:\n",
    "            m.data = m.data[torch.randperm(m.data.size(0))]\n",
    "            m.data = m.data[:, torch.randperm(m.data.size(1))]\n",
    "        elif len(m.data.size()) == 1:\n",
    "            m.data = m.data[torch.randperm(m.data.size(0))]\n",
    "        elif len(m.data.size()) == 3:\n",
    "            m.data = m.data[torch.randperm(m.data.size(0))]\n",
    "            m.data = m.data[:, torch.randperm(m.data.size(1))]\n",
    "            m.data = m.data[:, :, torch.randperm(m.data.size(2))]\n",
    "                    \n",
    "        \n",
    "                        \n",
    "    return model\n",
    "            \n"
   ]
  },
  {
   "cell_type": "markdown",
   "metadata": {},
   "source": [
    "## On Resnet"
   ]
  },
  {
   "cell_type": "code",
   "execution_count": null,
   "metadata": {},
   "outputs": [],
   "source": [
    "# initialization\n",
    "model = models.resnet18(pretrained=False).cuda().eval()\n",
    "plot_fisher(model, \"Resnet18, initialization\", 10, n_angles=180, n_phases=10)"
   ]
  },
  {
   "cell_type": "code",
   "execution_count": null,
   "metadata": {
    "scrolled": true
   },
   "outputs": [],
   "source": [
    "model = models.resnet18(pretrained=True).cuda().eval()\n",
    "plot_fisher(model, \"Resnet18\", 10, n_angles=180, n_phases=10, \n",
    "            savefig=None\n",
    "           )\n",
    "\n"
   ]
  },
  {
   "cell_type": "code",
   "execution_count": null,
   "metadata": {},
   "outputs": [],
   "source": [
    "# shuffled weights\n",
    "model = models.resnet18(pretrained=True).cuda().eval()\n",
    "shuffle_all_weights(model)\n",
    "plot_fisher(model, \"Shuffled Resnet18\", 10, n_angles=180, n_phases=10)\n"
   ]
  },
  {
   "cell_type": "markdown",
   "metadata": {},
   "source": [
    "## Resnet34"
   ]
  },
  {
   "cell_type": "code",
   "execution_count": null,
   "metadata": {},
   "outputs": [],
   "source": [
    "# cs = sns.color_palette('plasma', 10)\n",
    "# model = models.resnet34(pretrained=True)\n",
    "# # checkpoint = torch.load(which_alexnet)\n",
    "# # model.load_state_dict(checkpoint['state_dict'])\n",
    "\n",
    "# model.cuda().eval()\n",
    "# plot_fisher(model, \"Resnet34\", 10, n_angles=180, n_phases=1, savefig=\"figures/resnet34.pdf\")\n"
   ]
  },
  {
   "cell_type": "markdown",
   "metadata": {},
   "source": [
    "## Resnet50"
   ]
  },
  {
   "cell_type": "code",
   "execution_count": null,
   "metadata": {},
   "outputs": [],
   "source": [
    "# cs = sns.color_palette('plasma', 10)\n",
    "# model = models.resnet50(pretrained=True)\n",
    "# # checkpoint = torch.load(which_alexnet)\n",
    "# # model.load_state_dict(checkpoint['state_dict'])\n",
    "\n",
    "# model.cuda().eval()\n",
    "# plot_fisher(model, \"resnet50\", 10, n_angles=180, n_phases=1, savefig=\"figures/resnet50.pdf\")\n"
   ]
  },
  {
   "cell_type": "markdown",
   "metadata": {},
   "source": [
    "## Now on VGG"
   ]
  },
  {
   "cell_type": "code",
   "execution_count": null,
   "metadata": {},
   "outputs": [],
   "source": [
    "# cs = sns.color_palette('plasma', 21)\n",
    "\n",
    "# model = models.vgg11(pretrained=True)\n",
    "# # checkpoint = torch.load(which_alexnet)\n",
    "# # model.load_state_dict(checkpoint['state_dict'])\n",
    "\n",
    "# model.cuda().eval()\n",
    "# plot_fisher(model, \"vgg11\", 20, n_angles=180, n_phases=1, savefig=\"figures/vgg11.pdf\")\n"
   ]
  },
  {
   "cell_type": "code",
   "execution_count": null,
   "metadata": {},
   "outputs": [],
   "source": [
    "# cs = sns.color_palette('plasma', 29)\n",
    "\n",
    "# model = models.vgg11_bn(pretrained=True)\n",
    "# # checkpoint = torch.load(which_alexnet)\n",
    "# # model.load_state_dict(checkpoint['state_dict'])\n",
    "# model.cuda().eval()\n",
    "# plot_fisher(model, \"vgg11_bn\", 20, n_angles=180, n_phases=1, savefig=\"figures/vgg11_bn.pdf\")\n"
   ]
  },
  {
   "cell_type": "code",
   "execution_count": null,
   "metadata": {},
   "outputs": [],
   "source": [
    "# cs = sns.color_palette('plasma', 35)\n",
    "\n",
    "# model = models.vgg13_bn(pretrained=True)\n",
    "# # checkpoint = torch.load(which_alexnet)\n",
    "# # model.load_state_dict(checkpoint['state_dict'])\n",
    "\n",
    "# model.cuda().eval()\n",
    "# plot_fisher(model, \"vgg13_bn\", 35, n_angles=180, n_phases=1, savefig=\"figures/vgg13bn.pdf\")\n"
   ]
  },
  {
   "cell_type": "code",
   "execution_count": null,
   "metadata": {},
   "outputs": [],
   "source": [
    "\n",
    "model = models.vgg16_bn(pretrained=False)\n",
    "# checkpoint = torch.load(which_alexnet)\n",
    "# model.load_state_dict(checkpoint['state_dict'])\n",
    "\n",
    "model.cuda().eval()\n",
    "plot_fisher(model, \"vgg16_bn\", 44, n_angles=180, n_phases=10)\n"
   ]
  },
  {
   "cell_type": "code",
   "execution_count": null,
   "metadata": {},
   "outputs": [],
   "source": [
    "\n",
    "model = models.vgg16_bn(pretrained=True)\n",
    "# checkpoint = torch.load(which_alexnet)\n",
    "# model.load_state_dict(checkpoint['state_dict'])\n",
    "\n",
    "model.cuda().eval()\n",
    "plot_fisher(model, \"vgg16_bn\", 44, n_angles=180, n_phases=10)\n"
   ]
  },
  {
   "cell_type": "code",
   "execution_count": null,
   "metadata": {},
   "outputs": [],
   "source": [
    "\n",
    "model = models.vgg16_bn(pretrained=True)\n",
    "shuffle_all_weights(model)\n",
    "\n",
    "\n",
    "model.cuda().eval()\n",
    "plot_fisher(model, \"vgg16_bn_shuff\", 44, n_angles=180, n_phases=10, savefig=\"figures)\n"
   ]
  },
  {
   "cell_type": "markdown",
   "metadata": {},
   "source": [
    "# Controls\n",
    "\n",
    "These subpanels appear in the supplementary material. \n",
    "\n",
    "Note: Rotation controls require retraining a network on ImageNet, which can be expensive. The script for training a network on a modified ImageNet can be found as `train_rotated.py`. After training, snapshots of the model can be pointed to by this script."
   ]
  },
  {
   "cell_type": "markdown",
   "metadata": {},
   "source": [
    "## Alexnet"
   ]
  },
  {
   "cell_type": "code",
   "execution_count": null,
   "metadata": {},
   "outputs": [],
   "source": [
    "cs = sns.color_palette('plasma', 12)\n",
    "\n",
    "model = models.alexnet(pretrained=True)\n",
    "shuffle_all_weights(model)\n",
    "\n",
    "\n",
    "model.cuda().eval()\n",
    "plot_fisher(model, \"alexnet_shuff\", 12, n_angles=180, n_phases=10)"
   ]
  },
  {
   "cell_type": "code",
   "execution_count": null,
   "metadata": {},
   "outputs": [],
   "source": [
    "cs = sns.color_palette('plasma', 12)\n",
    "\n",
    "model = models.alexnet(pretrained=True)\n",
    "shuffle_all_weights(model)\n",
    "\n",
    "model.cuda().eval()\n",
    "plot_fisher(model, \"alexnet\", 12, n_angles=180, n_phases=10)"
   ]
  },
  {
   "cell_type": "code",
   "execution_count": null,
   "metadata": {},
   "outputs": [],
   "source": [
    "cs = sns.color_palette('plasma', 12)\n",
    "\n",
    "model = models.alexnet(pretrained=False).cuda().eval()\n",
    "plot_fisher(model, \"alexnet_init\", 12, n_angles=180, n_phases=10, scale=[.004,.008])"
   ]
  },
  {
   "cell_type": "markdown",
   "metadata": {},
   "source": [
    "## Alexnet with no pooling.\n",
    "\n",
    "What happens for Alexnet with no pooling? These require loading models defined in `Alexnet_nooverlap.py`."
   ]
  },
  {
   "cell_type": "code",
   "execution_count": null,
   "metadata": {},
   "outputs": [],
   "source": [
    "from Alexnet_nooverlap import AlexNet_nooverlap, AlexNet_nopool"
   ]
  },
  {
   "cell_type": "code",
   "execution_count": null,
   "metadata": {},
   "outputs": [],
   "source": [
    "cs = sns.color_palette('plasma', 12)\n",
    "\n",
    "model = AlexNet_nooverlap().cuda().eval()\n",
    "# shuffle_all_weights(model)\n",
    "\n",
    "plot_fisher(model, \"alexnet_init_nooverlap\", 12, \n",
    "            n_angles=180, n_phases=10, scale=[.004,.008],savefig=\"figures/alexnet_init_nooverlap2.pdf\")"
   ]
  },
  {
   "cell_type": "code",
   "execution_count": null,
   "metadata": {},
   "outputs": [],
   "source": [
    "plot_fisher(model, \"alexnet_init_nooverlap\", 12, n_angles=180, n_phases=10)#, scale=[.004,.008],savefig=\"figures/alexnet_init_nooverlap.pdf\")"
   ]
  },
  {
   "cell_type": "code",
   "execution_count": null,
   "metadata": {},
   "outputs": [],
   "source": [
    "cs = sns.color_palette('plasma', 12)\n",
    "\n",
    "model = AlexNet_nopool().cuda().eval()\n",
    "\n",
    "plot_fisher(model, \"alexnet_init_nopool\", 12, n_angles=180, n_phases=10, savefig=\"figures/alexnet_init_nopool.pdf\")"
   ]
  },
  {
   "cell_type": "code",
   "execution_count": null,
   "metadata": {},
   "outputs": [],
   "source": [
    "\n",
    "model = AlexNet_nooverlap().cuda().eval()\n",
    "state_dict = models.alexnet(pretrained=True).state_dict()\n",
    "model.load_state_dict(state_dict)\n",
    "# shuffle_all_weights(model)\n",
    "\n",
    "\n",
    "plot_fisher(model, \"alexnet_nooverlap_shuff\", 12, n_angles=180, n_phases=10, savefig=\"figures/alexnet_nooverlap_loaded.pdf\")\n"
   ]
  },
  {
   "cell_type": "code",
   "execution_count": null,
   "metadata": {},
   "outputs": [],
   "source": [
    "\n",
    "model = AlexNet_nooverlap().cuda().eval()\n",
    "state_dict = models.alexnet(pretrained=True).state_dict()\n",
    "model.load_state_dict(state_dict)\n",
    "shuffle_all_weights(model)\n",
    "\n",
    "\n",
    "plot_fisher(model, \"alexnet_nooverlap_shuff\", 12, n_angles=180, n_phases=10, savefig=\"figures/alexnet_nooverlap_shuff.pdf\")\n"
   ]
  },
  {
   "cell_type": "markdown",
   "metadata": {},
   "source": [
    "## Rotated"
   ]
  },
  {
   "cell_type": "code",
   "execution_count": null,
   "metadata": {},
   "outputs": [],
   "source": [
    "\n",
    "model = models.vgg16_bn(pretrained=False).cuda().eval()\n",
    "checkpoint = torch.load('/data/abenjamin/DNN_illusions/vgg16_bn_rotated/checkpoint_epoch_90.pth.tar')\n",
    "model.load_state_dict(checkpoint['state_dict'])\n",
    "\n",
    "plot_fisher(model, \"rotated vgg\", 44, n_angles=180, n_phases=10, savefig=\"figures/vgg16_bn_rotated.pdf\")\n"
   ]
  },
  {
   "cell_type": "code",
   "execution_count": null,
   "metadata": {},
   "outputs": [],
   "source": [
    "\n",
    "model = models.resnet18(pretrained=False).cuda().eval()\n",
    "checkpoint = torch.load('/data/abenjamin/DNN_illusions/resnet18_rotated/checkpoint_epoch_90.pth.tar')\n",
    "model.load_state_dict(checkpoint['state_dict'])\n",
    "\n",
    "plot_fisher(model, \"rotated Resnet18\", 10, n_angles=180, n_phases=10, savefig=\"figures/resnet18_rotated.pdf\")\n"
   ]
  },
  {
   "cell_type": "code",
   "execution_count": null,
   "metadata": {},
   "outputs": [],
   "source": [
    "def plot_rotated_difference(model, model_rotated, N=10, n_angles=40, n_phases=1, generator=None, savefig=None):\n",
    "    cs = sns.color_palette('plasma', N)\n",
    "    cmap = mpl.colors.LinearSegmentedColormap.from_list(\n",
    "        'Custom cmap', cs, len(cs))\n",
    "    \n",
    "    for i in tqdm(range(N)):\n",
    "        sqrt_fishers_resnet = np.sqrt(torch.stack(get_fisher_orientations(model,i,n_angles, n_images=n_phases,\n",
    "                                                              generator=generator_gabor, delta=1e-2)).cpu().numpy())\n",
    "        normed =  sqrt_fishers_resnet/np.sum(sqrt_fishers_resnet)\n",
    "        \n",
    "        sqrt_fishers_resnet_rotated = np.sqrt(torch.stack(get_fisher_orientations(model_rotated,i,n_angles, n_images=n_phases,\n",
    "                                                              generator=generator_gabor, delta=1e-2)).cpu().numpy())\n",
    "        normed_rot =  sqrt_fishers_resnet_rotated/np.sum(sqrt_fishers_resnet_rotated)\n",
    "        \n",
    "        diff = normed_rot-normed\n",
    "        \n",
    "        plt.plot(np.linspace(0, 180, n_angles),diff,\"-\", label = \"Layer {}\".format(i+1),c=cs[i])\n",
    "        \n",
    "    plt.ylim(bottom=-max(max(diff),-min(diff)), top = max(max(diff),-min(diff)))\n",
    "    plt.plot([0,180],[0,0],'k-')\n",
    "    plt.ylabel(r\"$\\Delta\\sqrt{J(\\theta)}$ (normalized)\", fontsize = 15)\n",
    "    plt.xlabel(\"Angle (º)\", fontsize = 15)\n",
    "    plt.xticks(np.linspace(0,180,5))\n",
    "\n",
    "    clb = plt.colorbar(cm.ScalarMappable(norm=mpl.colors.Normalize(vmin=0, vmax=N), cmap=cmap))\n",
    "    clb.ax.set_title('Layer')\n",
    "    plt.tight_layout()\n",
    "    if savefig is not None:\n",
    "        plt.savefig(savefig)\n",
    "    plt.show()"
   ]
  },
  {
   "cell_type": "code",
   "execution_count": null,
   "metadata": {},
   "outputs": [],
   "source": [
    "model = models.resnet18(pretrained=True).cuda().eval()\n",
    "\n",
    "model_rotated = models.resnet18(pretrained=False).cuda().eval()\n",
    "checkpoint = torch.load('/data/abenjamin/DNN_illusions/resnet18_rotated/checkpoint_epoch_90.pth.tar')\n",
    "model_rotated.load_state_dict(checkpoint['state_dict'])\n",
    "\n",
    "plot_rotated_difference(model, model_rotated, 10, n_angles=180, n_phases=10, savefig=\"figures/resnet18_rotated_diff.pdf\")\n"
   ]
  },
  {
   "cell_type": "code",
   "execution_count": null,
   "metadata": {},
   "outputs": [],
   "source": [
    "model = models.vgg16_bn(pretrained=True).cuda().eval()\n",
    "\n",
    "\n",
    "model_rotated = models.vgg16_bn(pretrained=False).cuda().eval()\n",
    "checkpoint = torch.load('/data/abenjamin/DNN_illusions/vgg16_bn_rotated/checkpoint_epoch_90.pth.tar')\n",
    "model_rotated.load_state_dict(checkpoint['state_dict'])\n",
    "\n",
    "plot_rotated_difference(model, model_rotated, 44, n_angles=180, n_phases=10, savefig=\"figures/vgg16_bn_rotated_diff.pdf\")\n"
   ]
  }
 ],
 "metadata": {
  "kernelspec": {
   "display_name": "Python [conda env:.conda-pytorch] *",
   "language": "python",
   "name": "conda-env-.conda-pytorch-py"
  },
  "language_info": {
   "codemirror_mode": {
    "name": "ipython",
    "version": 3
   },
   "file_extension": ".py",
   "mimetype": "text/x-python",
   "name": "python",
   "nbconvert_exporter": "python",
   "pygments_lexer": "ipython3",
   "version": "3.6.12"
  }
 },
 "nbformat": 4,
 "nbformat_minor": 1
}
