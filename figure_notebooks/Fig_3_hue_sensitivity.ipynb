{
 "cells": [
  {
   "cell_type": "markdown",
   "metadata": {},
   "source": [
    "# Sensitivity to hue (HSV) of deep networks"
   ]
  },
  {
   "cell_type": "code",
   "execution_count": null,
   "metadata": {},
   "outputs": [],
   "source": [
    "import numpy as np\n",
    "import torch\n",
    "from matplotlib import pyplot as plt\n",
    "from tqdm import tqdm as tqdm\n",
    "from matplotlib import cm\n",
    "import matplotlib as mpl\n",
    "import pickle\n",
    "import pandas as pd\n",
    "%matplotlib inline\n",
    "\n",
    "import seaborn as sns\n",
    "\n",
    "plt.style.use('seaborn-white', )\n",
    "plt.rcParams['axes.labelsize'] =  25\n",
    "plt.rcParams['ytick.labelsize'] = 15.0\n",
    "plt.rcParams['xtick.labelsize'] = 15.0\n",
    "\n",
    "import sys\n",
    "sys.path.insert(0, \"..\")\n",
    "\n",
    "from scripts.fisher_calculators import get_fisher_orientations, get_fisher_hues\n",
    "\n",
    "from torchvision import models, transforms, utils\n",
    "\n",
    "import colorsys\n",
    "from colorspacious import cspace_convert"
   ]
  },
  {
   "cell_type": "code",
   "execution_count": null,
   "metadata": {},
   "outputs": [],
   "source": [
    "def generator_hsv(hue):\n",
    "    \"in deg\"\n",
    "    \n",
    "    c = colorsys.hsv_to_rgb(hue/360., 1., .8)\n",
    "\n",
    "    arr = np.ones((224,224,3)) * c\n",
    "    \n",
    "    return torch.from_numpy(arr).permute(2,0,1).to(torch.float)"
   ]
  },
  {
   "cell_type": "code",
   "execution_count": null,
   "metadata": {},
   "outputs": [],
   "source": [
    "def generator_hsv_marginalized(hue):\n",
    "    \"in deg\"\n",
    "    \n",
    "    c = np.array([[colorsys.hsv_to_rgb(hue/360., s, v) \n",
    "                       for s in np.linspace(.5,.9, 8)]\n",
    "                          for v in np.linspace(.5,.9, 8)])\n",
    "#     print(c.shape)\n",
    "    arr = c.reshape(64,3,1,1)*np.ones((3,224,224))\n",
    "    \n",
    "    return torch.from_numpy(arr).to(torch.float)"
   ]
  },
  {
   "cell_type": "code",
   "execution_count": null,
   "metadata": {},
   "outputs": [],
   "source": [
    "sns.palplot([(generator_hsv(hue)[:,0,0]).numpy() for hue in range(0,360,2)])"
   ]
  },
  {
   "cell_type": "code",
   "execution_count": null,
   "metadata": {},
   "outputs": [],
   "source": [
    "def simpleaxis(ax):\n",
    "    ax.spines['top'].set_visible(False)\n",
    "    ax.spines['right'].set_visible(False)\n",
    "    ax.spines['left'].set_visible(False)\n",
    "    ax.get_xaxis().tick_bottom()\n",
    "    ax.get_yaxis().set_visible(False)\n",
    "    ax.xaxis.set_tick_params(size=6)\n",
    "#     ax.yaxis.set_tick_params(size=6)"
   ]
  },
  {
   "cell_type": "code",
   "execution_count": null,
   "metadata": {},
   "outputs": [],
   "source": [
    "def get_fisher(model, title, N=10, n_colors=360, scale=None, savefig=None,generator=generator_hsv_marginalized ):\n",
    "\n",
    "    fishers = []\n",
    "    for i in tqdm(range(N)):\n",
    "        sqrt_fishers_resnet = np.sqrt(torch.stack(get_fisher_hues(model,i,n_colors, delta=.1,\n",
    "                                                                  generator=generator)).cpu().numpy())\n",
    "        normed =  sqrt_fishers_resnet/np.sum(sqrt_fishers_resnet)\n",
    "        fishers.append(normed)\n",
    "    return fishers\n"
   ]
  },
  {
   "cell_type": "code",
   "execution_count": null,
   "metadata": {},
   "outputs": [],
   "source": [
    "def plot_fisher(model, title, N=10, n_colors=360, scale=None, savefig=None,generator=generator_hsv_marginalized ):\n",
    "    cs = sns.color_palette('plasma', N)\n",
    "    cmap = mpl.colors.LinearSegmentedColormap.from_list(\n",
    "        'Custom cmap', cs, len(cs))\n",
    "\n",
    "    for i in tqdm(range(N)):\n",
    "        sqrt_fishers_resnet = np.sqrt(torch.stack(get_fisher_hues(model,i,n_colors, delta=.1,\n",
    "                                                                  generator=generator)).cpu().numpy())\n",
    "        normed =  sqrt_fishers_resnet/np.sum(sqrt_fishers_resnet)\n",
    "        plt.plot(np.linspace(0, 360, n_colors),normed,\"-\", label = \"Layer {}\".format(i+1),c=cs[i])\n",
    "    plt.ylim(bottom=0, top = max(max(normed),2*np.mean(normed)))\n",
    "    plt.ylabel(r\"$\\sqrt{J(\\theta)}$ (normalized)\", fontsize = 15)\n",
    "    plt.xlabel(\"Hue (º)\", fontsize = 15)\n",
    "\n",
    "    plt.xticks(np.linspace(0,360,5))\n",
    "    #     plt.title(\"Layer {}\".format(i), fontsize=15)\n",
    "    #     plt.show()\n",
    "\n",
    "    if scale is not None:\n",
    "        plt.ylim(scale)\n",
    "\n",
    "    plt.title(title, fontsize=20)\n",
    "    clb = plt.colorbar(cm.ScalarMappable(norm=mpl.colors.Normalize(vmin=0, vmax=N), cmap=cmap))\n",
    "    clb.ax.set_title('Layer')\n",
    "    plt.tight_layout()\n",
    "    if savefig is not None:\n",
    "        plt.savefig(savefig)\n",
    "    plt.show()"
   ]
  },
  {
   "cell_type": "code",
   "execution_count": null,
   "metadata": {},
   "outputs": [],
   "source": [
    "def plot_fisher_spectral(model, title, N=10, scale=None, savefig=None,):\n",
    "    cs = sns.color_palette('plasma', N)\n",
    "    cmap = mpl.colors.LinearSegmentedColormap.from_list(\n",
    "        'Custom cmap', cs, len(cs))\n",
    "    r= range(450,650,5)\n",
    "    for i in tqdm(range(N)):\n",
    "        sqrt_fishers_resnet = np.sqrt(torch.stack(get_fisher_hues(model,i, delta=.1, hues = r,\n",
    "                                                                  generator=generator_spectral)).cpu().numpy())\n",
    "        normed =  sqrt_fishers_resnet/np.sum(sqrt_fishers_resnet)\n",
    "        plt.plot(r,normed,\"-\", label = \"Layer {}\".format(i+1),c=cs[i])\n",
    "    plt.ylim(bottom=0, top = max(max(normed),2*np.mean(normed)))\n",
    "    plt.ylabel(r\"$\\sqrt{J(\\theta)}$ (normalized)\", fontsize = 15)\n",
    "    plt.xlabel(\"Approx. wavelength (nm)\", fontsize = 15)\n",
    "\n",
    "    plt.xticks(range(450,651,50))\n",
    "    #     plt.title(\"Layer {}\".format(i), fontsize=15)\n",
    "    #     plt.show()\n",
    "\n",
    "    if scale is not None:\n",
    "        plt.ylim(scale)\n",
    "\n",
    "    plt.title(title, fontsize=20)\n",
    "    clb = plt.colorbar(cm.ScalarMappable(norm=mpl.colors.Normalize(vmin=0, vmax=N), cmap=cmap))\n",
    "    clb.ax.set_title('Layer')\n",
    "    plt.tight_layout()\n",
    "    if savefig is not None:\n",
    "        plt.savefig(savefig)\n",
    "    plt.show()"
   ]
  },
  {
   "cell_type": "markdown",
   "metadata": {},
   "source": [
    "## Get distance in CIELAB space"
   ]
  },
  {
   "cell_type": "code",
   "execution_count": null,
   "metadata": {},
   "outputs": [],
   "source": [
    "# get array of hsv \n",
    "colors = np.ones((360,3))\n",
    "colors[:,0]=np.linspace(0,1,360)\n",
    "colors[:,2]=1\n",
    "# pass to rgb\n",
    "colors_rgb = [colorsys.hsv_to_rgb(*c) for c in colors]\n",
    "\n",
    "# then cielab\n",
    "colors = cspace_convert(colors_rgb, \"sRGB1\", \"CIELab\")\n",
    "#get diff\n",
    "diff = []\n",
    "for i in range(1,len(colors)):\n",
    "    diff.append(np.linalg.norm(colors[i-1]-colors[i]))\n",
    "plt.plot(diff)\n",
    "plt.ylabel(\"Perceptual distance\", fontsize = 20)\n",
    "plt.xlabel(\"Hue in HSV (º)\", fontsize = 20)\n",
    "\n",
    "plt.xticks(np.linspace(0,360,5))\n",
    "plt.yticks([])\n",
    "\n",
    "#     plt.title(\"Layer {}\".format(i), fontsize=15)\n",
    "#     plt.show()\n",
    "simpleaxis(plt.gca())\n",
    "\n",
    "\n",
    "plt.xlim([0,360])\n",
    "# plt.title(title, fontsize=20)\n",
    "plt.tight_layout()\n",
    "plt.savefig(\"CIELAB_hue.pdf\")\n",
    "plt.show()"
   ]
  },
  {
   "cell_type": "markdown",
   "metadata": {},
   "source": [
    "# Resnet"
   ]
  },
  {
   "cell_type": "code",
   "execution_count": null,
   "metadata": {
    "scrolled": true
   },
   "outputs": [],
   "source": [
    "model = models.resnet18(pretrained=True).cuda().eval()\n",
    "fishers = get_fisher(model, \"Resnet18\", 10, generator=generator_hsv,\n",
    "            n_colors=360)"
   ]
  },
  {
   "cell_type": "code",
   "execution_count": null,
   "metadata": {},
   "outputs": [],
   "source": [
    "\n",
    "def plot_precomputed_fishers(fishers, title, N=10, n_colors=360, scale=None, savefig=None,generator=generator_hsv_marginalized ):\n",
    "    cs = sns.color_palette('plasma', N)\n",
    "    cmap = mpl.colors.LinearSegmentedColormap.from_list(\n",
    "        'Custom cmap', cs, len(cs))\n",
    "\n",
    "    for i in tqdm(range(N)):\n",
    "        \n",
    "        plt.plot(np.linspace(0, 360, n_colors),fishers[i],\"-\", label = \"Layer {}\".format(i+1),c=cs[i])\n",
    "    plt.ylim(bottom=0, top = max(max(fishers[i]),2*np.mean(fishers[i])))\n",
    "    plt.ylabel(r\"$\\sqrt{J(\\theta)}$ (normalized)\", fontsize = 15)\n",
    "    plt.xlabel(\"Hue (º)\", fontsize = 15)\n",
    "\n",
    "    plt.xticks(np.linspace(0,360,5))\n",
    "    #     plt.title(\"Layer {}\".format(i), fontsize=15)\n",
    "    #     plt.show()\n",
    "\n",
    "    if scale is not None:\n",
    "        plt.ylim(scale)\n",
    "    simpleaxis(plt.gca())\n",
    "    plt.xlim([0,360])\n",
    "    plt.title(title, fontsize=20)\n",
    "    clb = plt.colorbar(cm.ScalarMappable(norm=mpl.colors.Normalize(vmin=0, vmax=N), cmap=cmap))\n",
    "    clb.ax.set_title('Layer')\n",
    "    plt.tight_layout()\n",
    "    if savefig is not None:\n",
    "        plt.savefig(savefig)\n",
    "    plt.show()"
   ]
  },
  {
   "cell_type": "code",
   "execution_count": null,
   "metadata": {},
   "outputs": [],
   "source": [
    "plot_precomputed_fishers(fishers, None, 10, generator=generator_hsv,\n",
    "            n_colors=360, savefig=None)"
   ]
  },
  {
   "cell_type": "markdown",
   "metadata": {},
   "source": [
    "## On rotated hue. \n",
    "\n",
    "Requires retraining a network. Look to training script at `train_rotated.py`."
   ]
  },
  {
   "cell_type": "code",
   "execution_count": null,
   "metadata": {},
   "outputs": [],
   "source": [
    "path = '/data/abenjamin/DNN_illusions/resnet18_rotated_hue/checkpoint_epoch_{}.pth.tar'.format(90)\n",
    "checkpoint = torch.load(path)\n",
    "model.load_state_dict(checkpoint['state_dict'])\n",
    "rotated_fishers = get_fisher(model, \"Resnet18\", 10, generator=generator_hsv_marginalized,\n",
    "                        n_colors=360)\n"
   ]
  },
  {
   "cell_type": "code",
   "execution_count": null,
   "metadata": {},
   "outputs": [],
   "source": [
    "plot_precomputed_fishers(rotated_fishers, \"Resnet18\", 10, generator=generator_hsv_marginalized,\n",
    "                        n_colors=360, savefig=\"figures/resnet18_hue_rotated_marginalized.pdf\")"
   ]
  }
 ],
 "metadata": {
  "kernelspec": {
   "display_name": "Python 3",
   "language": "python",
   "name": "python3"
  },
  "language_info": {
   "codemirror_mode": {
    "name": "ipython",
    "version": 3
   },
   "file_extension": ".py",
   "mimetype": "text/x-python",
   "name": "python",
   "nbconvert_exporter": "python",
   "pygments_lexer": "ipython3",
   "version": "3.6.12"
  }
 },
 "nbformat": 4,
 "nbformat_minor": 1
}
