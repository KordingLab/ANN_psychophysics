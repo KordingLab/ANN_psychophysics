{
 "cells": [
  {
   "cell_type": "markdown",
   "metadata": {},
   "source": [
    "# Gradient descent in linear matrix learning\n",
    "\n",
    "This notebook reproduces the subpanels of Fig 4.\n"
   ]
  },
  {
   "cell_type": "markdown",
   "metadata": {
    "id": "YNovaD-uVYnM"
   },
   "source": [
    "## Import and helper functions"
   ]
  },
  {
   "cell_type": "code",
   "execution_count": null,
   "metadata": {
    "id": "UWM7wLesUl6c"
   },
   "outputs": [],
   "source": [
    "# Imports\n",
    "import numpy as np\n",
    "import matplotlib.pyplot as plt\n",
    "%matplotlib inline\n",
    "\n",
    "import torch\n",
    "from torch import nn, optim\n",
    "\n",
    "from sklearn import decomposition\n",
    "import seaborn as sns\n",
    "\n",
    "from tqdm import tqdm"
   ]
  },
  {
   "cell_type": "code",
   "execution_count": null,
   "metadata": {
    "id": "8VRu9zXHUqoq"
   },
   "outputs": [],
   "source": [
    "# Images are column vectors\n",
    "def visualize_image(X, n_row=5, n_col=5, rand=True, image_size=[32, 32]):\n",
    "    plt.figure(figsize=(n_col,n_row))\n",
    "    for idx in range(n_row * n_col):\n",
    "        if rand:\n",
    "            image_id = np.random.randint(0, X.shape[1])\n",
    "        else:\n",
    "            image_id = idx\n",
    "\n",
    "        image = X[:, image_id].reshape(image_size)\n",
    "\n",
    "        plt.subplot(n_row, n_col, idx + 1)\n",
    "        plt.imshow(image, cmap='gray')\n",
    "        plt.axis('off')\n",
    "\n",
    "def simpleaxis(ax):\n",
    "    ax.spines['top'].set_visible(False)\n",
    "    ax.spines['right'].set_visible(False)\n",
    "    ax.get_xaxis().tick_bottom()\n",
    "    ax.get_yaxis().tick_left()\n",
    "    ax.xaxis.set_tick_params(size=6, labelsize=12)\n",
    "    ax.yaxis.set_tick_params(size=6, labelsize=12)"
   ]
  },
  {
   "cell_type": "markdown",
   "metadata": {
    "id": "VuO8PvZgQwVk"
   },
   "source": [
    "# Part 1: ImageNet PCA"
   ]
  },
  {
   "cell_type": "markdown",
   "metadata": {
    "id": "HGxKMtqZlSH8"
   },
   "source": [
    "### Load dataset\n",
    "\n",
    "It's rather easy to create imagenet crops, if you have imagenet already downloaded. I've provided a small dataset hosted on Google Drive that contains around 100,000 grayscale image crops."
   ]
  },
  {
   "cell_type": "markdown",
   "metadata": {
    "colab": {
     "base_uri": "https://localhost:8080/"
    },
    "id": "xtMcSVhZQz92",
    "outputId": "8cbf35a7-6afc-408a-f578-e581b3a14eb7"
   },
   "source": [
    "!pip install googledrivedownloader\n",
    "from google_drive_downloader import GoogleDriveDownloader as gdd\n",
    "\n",
    "gdd.download_file_from_google_drive(file_id='1mF46SUDKzG0LkWkNGV1fP2hTEgW5WbF_',\n",
    "                                    dest_path='./imagenet_32x32_crops.pt',\n",
    "                                    unzip=False, overwrite = True, showsize=True)"
   ]
  },
  {
   "cell_type": "code",
   "execution_count": null,
   "metadata": {
    "id": "VXlBividQ3vv"
   },
   "outputs": [],
   "source": [
    "imagenet = torch.load('imagenet_32x32_crops.pt')\n",
    "X = imagenet.view([imagenet.shape[0], 3, -1]).mean(1).T.numpy()"
   ]
  },
  {
   "cell_type": "markdown",
   "metadata": {
    "id": "wp4VV4vmlcdc"
   },
   "source": [
    "### Visualization"
   ]
  },
  {
   "cell_type": "code",
   "execution_count": null,
   "metadata": {
    "colab": {
     "base_uri": "https://localhost:8080/",
     "height": 0
    },
    "id": "mUlN_-MJRWNo",
    "outputId": "adf76c31-b6a0-44ee-f8bf-6b278441b531"
   },
   "outputs": [],
   "source": [
    "print(X.shape)\n",
    "print(X.min())\n",
    "print(X.max())\n",
    "visualize_image(X,7,8)\n",
    "# plt.savefig(\"figures/imgs.pdf\")"
   ]
  },
  {
   "cell_type": "markdown",
   "metadata": {
    "id": "wRV3ZNRilJoG"
   },
   "source": [
    "# PCA Analysis"
   ]
  },
  {
   "cell_type": "code",
   "execution_count": null,
   "metadata": {
    "id": "Mhtcfb2YlLD9"
   },
   "outputs": [],
   "source": [
    "# Zero center\n",
    "row_mean = X.mean(axis=1)\n",
    "X_zero = X - row_mean.reshape([-1, 1])"
   ]
  },
  {
   "cell_type": "code",
   "execution_count": null,
   "metadata": {
    "colab": {
     "base_uri": "https://localhost:8080/"
    },
    "id": "UvMeJnCfmaa9",
    "outputId": "fbd5bc97-1690-4109-b13a-cb55731c3ad7"
   },
   "outputs": [],
   "source": [
    "# PCA\n",
    "pca = decomposition.PCA()\n",
    "pca.fit(X_zero.T)\n",
    "pca_basis = pca.components_\n",
    "pca_basis.shape"
   ]
  },
  {
   "cell_type": "code",
   "execution_count": null,
   "metadata": {
    "colab": {
     "base_uri": "https://localhost:8080/",
     "height": 0
    },
    "id": "b1xsqZBRnEyN",
    "outputId": "9443aa8f-e2f1-4a6f-8eda-dc59508caa48"
   },
   "outputs": [],
   "source": [
    "# Plot eigenval\n",
    "plt.subplot(1, 2, 1)\n",
    "plt.plot(pca.singular_values_)\n",
    "\n",
    "plt.subplot(1, 2, 2)\n",
    "plt.plot(pca.explained_variance_ratio_)\n",
    "plt.show()"
   ]
  },
  {
   "cell_type": "code",
   "execution_count": null,
   "metadata": {},
   "outputs": [],
   "source": [
    "plt.figure(figsize=(5,5))\n",
    "plt.plot(pca.singular_values_[:int(500)],'k.-')\n",
    "ax=plt.gca()\n",
    "simpleaxis(ax)\n",
    "ax.set_xscale('log')\n",
    "ax.set_yscale('log')\n",
    "plt.ylim(top=1000)\n",
    "# plt.xlim(1,100)\n",
    "plt.xlabel(\"PCA #\",fontsize=20)\n",
    "plt.ylabel(\"Singular value\",fontsize=20)\n",
    "plt.tight_layout()\n",
    "# plt.savefig(\"figures/PCA_spectrum.svg\")"
   ]
  },
  {
   "cell_type": "code",
   "execution_count": null,
   "metadata": {
    "colab": {
     "base_uri": "https://localhost:8080/",
     "height": 0
    },
    "id": "b77-kVFlnNA0",
    "outputId": "9bcd056a-1049-4ef8-b2f4-eb5355f87773"
   },
   "outputs": [],
   "source": [
    "# PCA Basis\n",
    "visualize_image(pca_basis.T, n_row=7, n_col=8, rand=False)\n",
    "# plt.savefig(\"figures/pca_basis.pdf\")"
   ]
  },
  {
   "cell_type": "code",
   "execution_count": null,
   "metadata": {
    "colab": {
     "base_uri": "https://localhost:8080/",
     "height": 0
    },
    "id": "rlXvvwjunU11",
    "outputId": "3894c830-8329-40c9-9cea-9bc4d51f49cc"
   },
   "outputs": [],
   "source": [
    "# PCA transformation\n",
    "n_comp = 50\n",
    "comp = pca_basis[:n_comp, :]\n",
    "\n",
    "proj = comp @ X_zero\n",
    "recon = comp.T @ proj\n",
    "recon_mean = recon + row_mean.reshape([-1, 1])\n",
    "\n",
    "visualize_image(recon_mean)"
   ]
  },
  {
   "cell_type": "code",
   "execution_count": null,
   "metadata": {
    "colab": {
     "base_uri": "https://localhost:8080/"
    },
    "id": "s6J6MqWfoKvK",
    "outputId": "669cf784-564c-41bb-fcd1-928d8e3cfe3a"
   },
   "outputs": [],
   "source": [
    "# PCA loss\n",
    "loss_func = nn.MSELoss()\n",
    "loss_func(torch.from_numpy(X_zero.T.astype(np.float32)), \\\n",
    "          torch.from_numpy(recon.T.astype(np.float32)))"
   ]
  },
  {
   "cell_type": "markdown",
   "metadata": {
    "id": "wdObroxfpOOt"
   },
   "source": [
    "# PCA with Neural Network"
   ]
  },
  {
   "cell_type": "markdown",
   "metadata": {
    "id": "Bjvt4wJQCwSj"
   },
   "source": [
    "### Helper class and function"
   ]
  },
  {
   "cell_type": "code",
   "execution_count": null,
   "metadata": {
    "id": "UoE65YezpSAl"
   },
   "outputs": [],
   "source": [
    "input_X = torch.from_numpy(X_zero.T.astype(np.float32)).cuda()\n",
    "\n",
    "import functools as ft\n",
    "class LinearNetwork:\n",
    "  # init with a list of weight matrix\n",
    "  def __init__(self, pca_basis, init_scale, *weight_shape):\n",
    "    self.weight = [(torch.rand(mtx_shape)*init_scale-init_scale/2)\\\n",
    "                   .clone().detach().cuda().requires_grad_(True)\\\n",
    "                   for mtx_shape in weight_shape]\n",
    "    self.symmetric=False\n",
    "    self.pca_basis = torch.from_numpy(pca_basis.astype(np.float32)).cuda()\n",
    "\n",
    "  def transform_mtx(self):\n",
    "    # pca transformation encoded by the network\n",
    "    w = ft.reduce(lambda a, b: b.mm(a), self.weight)\n",
    "    return w.t().mm(w) if self.symmetric else w\n",
    "\n",
    "  def forward(self, input):\n",
    "    # forward transformation on data\n",
    "    transform = self.transform_mtx()\n",
    "    return input.mm(transform)\n",
    "    \n",
    "  def decompose(self):\n",
    "    # alignment with PCA basis\n",
    "    with torch.no_grad():\n",
    "      transform = self.transform_mtx()\n",
    "      if not self.symmetric: \n",
    "        transform = transform.mm(transform.t())\n",
    "\n",
    "      diag = self.pca_basis.mm(transform).mm(self.pca_basis.T)      \n",
    "\n",
    "      return np.diag(diag.detach().cpu().numpy())\n",
    "\n",
    "  # useful visualization\n",
    "  def plot_decomposition(self, n_item):\n",
    "    diag = self.decompose()[:n_item]\n",
    "    plt.plot(diag)\n",
    "    plt.show()\n",
    "\n",
    "  def show_reconstruction(self, input):\n",
    "    with torch.no_grad():\n",
    "      output = self.forward(input).detach().cpu().numpy().T\n",
    "      visualize_image(output)\n",
    "\n",
    "    "
   ]
  },
  {
   "cell_type": "code",
   "execution_count": null,
   "metadata": {
    "id": "7SMTn5cNC5Fa"
   },
   "outputs": [],
   "source": [
    "def pca_learning(input, network, n_epoch=1000, batch_size=100, n_item=50, sgd=True, lr=0.01, return_weight_every=False):\n",
    "  # Gradient descent training\n",
    "  optimizer = optim.SGD(network.weight, lr=lr)  \n",
    "  if not sgd:\n",
    "    optimizer = optim.Adam(network.weight)\n",
    "\n",
    "  loss_func = nn.MSELoss()\n",
    "  loss_val  = np.zeros(n_epoch)\n",
    "  diag_val  = np.zeros([n_epoch, n_item])\n",
    "\n",
    "  weights=[]\n",
    "  for epoch in tqdm(range(n_epoch)): \n",
    "    if return_weight_every is not None:\n",
    "        if epoch % return_weight_every ==0:\n",
    "            weights.append(network.weight[0].detach().cpu())\n",
    "    # diagonalization of network transformation with PCA basis\n",
    "    diag = network.decompose()\n",
    "    diag_val[epoch, :] = diag[0:n_item]\n",
    "    \n",
    "    # SGD training\n",
    "    shuffle_idx = np.random.permutation(len(input))\n",
    "    batches = torch.split(input[shuffle_idx], batch_size)\n",
    "    \n",
    "    for batch in batches:\n",
    "        optimizer.zero_grad()\n",
    "        output = network.forward(batch)\n",
    "    \n",
    "        loss = loss_func(batch, output + torch.randn_like(output)*.1)\n",
    "        loss.backward()        \n",
    "        optimizer.step()\n",
    "\n",
    "        \n",
    "    # evalulation after each epoch\n",
    "    with torch.no_grad():\n",
    "        output = network.forward(input)\n",
    "        loss_val[epoch] = loss_func(input, output)\n",
    "\n",
    "  if return_weight_every is not None:\n",
    "    return (loss_val, diag_val, weights)\n",
    "  return (loss_val, diag_val)"
   ]
  },
  {
   "cell_type": "code",
   "execution_count": null,
   "metadata": {
    "id": "2cuEp3QfLCCa"
   },
   "outputs": [],
   "source": [
    "# helper function for plotting the loss function\n",
    "def plot_loss(loss_val):\n",
    "  fig = plt.figure(figsize=(10, 3), dpi=100)\n",
    "  plt.subplot(1, 2, 1)\n",
    "  plt.plot(loss_val)\n",
    "\n",
    "  n_epoch = loss_val.size\n",
    "  index = int(n_epoch * 0.75)\n",
    "  plt.subplot(1, 2, 2)\n",
    "  plt.plot(range(n_epoch)[index:], loss_val[index:])"
   ]
  },
  {
   "cell_type": "code",
   "execution_count": null,
   "metadata": {
    "id": "gUbuFsbuPXhn"
   },
   "outputs": [],
   "source": [
    "# helper function for temporal dynamics\n",
    "def plot_temporal(diag_val, t_step, n_plot=20,cmap=\"Blues\"):\n",
    "  colors = sns.color_palette(cmap,n_colors=n_plot)\n",
    "  for idx in range(n_plot):\n",
    "    plt.plot(range(t_step), diag_val[:t_step, idx], c=colors[-(idx+1)])\n",
    "  "
   ]
  },
  {
   "cell_type": "code",
   "execution_count": null,
   "metadata": {},
   "outputs": [],
   "source": [
    "def sinusoid(freq,phase=0, contrast=1):\n",
    "    arr= torch.ones(1,32,32)\n",
    "    arr*=torch.linspace(0,3.14159,32)\n",
    "    arr = contrast*.5*torch.sin(freq*arr+phase)+.5\n",
    "    return arr.view(-1,32**2).cuda()\n",
    "\n",
    "def get_sensitivity(net, low=1,high=10,n=20, weight=None, n_phases=64, plot=True, log_x=False,contrast=1):\n",
    "    fs = [torch.autograd.Variable(f, requires_grad=True) for f in torch.linspace(low,high,n)]\n",
    "    if weight is None:\n",
    "        w = ft.reduce(lambda a, b: b.mm(a), net.weight)\n",
    "    else:\n",
    "        w = weight\n",
    "\n",
    "    sensitivity=[]\n",
    "    for f in fs:\n",
    "        all_sens=[]\n",
    "        for phase in np.linspace(0,np.pi,n_phases):\n",
    "            func = lambda l: sinusoid(l,phase,contrast).mm(w.t())\n",
    "            all_sens.append(torch.autograd.functional.jacobian(func, f, vectorize=True).pow(2).sum())\n",
    "        sensitivity.append(np.mean(all_sens))\n",
    "        \n",
    "    if plot:\n",
    "        fig = plt.figure(figsize=(8, 4), dpi=300)\n",
    "        plt.subplot(1, 2, 1)\n",
    "        plt.plot(np.linspace(low,high,n)/64*100,sensitivity)\n",
    "        plt.ylabel(\"Fisher Information\")\n",
    "        plt.xlabel(\"Spatial frequency (cycles/ 100 pixels)\")\n",
    "        if log_x:\n",
    "            plt.gca().set_xscale('log')\n",
    "        plt.subplot(1,2,2)\n",
    "\n",
    "        plt.plot(np.linspace(low,high,n)/64*100,np.power( sensitivity,-.5))\n",
    "        plt.xlabel(\"Cycles/ 100 pixels\")\n",
    "        plt.ylabel(r\"Threshold $J(\\theta)^{-\\frac{1}{2}}$\")\n",
    "        if log_x:\n",
    "            plt.gca().set_xscale('log')\n",
    "    else:\n",
    "        return sensitivity\n"
   ]
  },
  {
   "cell_type": "markdown",
   "metadata": {
    "id": "T5xQxNm_-7m0"
   },
   "source": [
    "### One-matrix reconstruction\n",
    "\n",
    "$$\\hat{X}=W_1X$$\n",
    "$$\\ell(W)=\\sum_j(x_j-\\hat{x_j})^2$$"
   ]
  },
  {
   "cell_type": "markdown",
   "metadata": {
    "id": "6zl1RdkhKBxD"
   },
   "source": [
    "#### Before training"
   ]
  },
  {
   "cell_type": "code",
   "execution_count": null,
   "metadata": {
    "id": "baJWxM1b9Jwp"
   },
   "outputs": [],
   "source": [
    "n_comp = 50\n",
    "input_size = 32 * 32\n",
    "\n",
    "one_layer = LinearNetwork(pca_basis, 0.01, (input_size, input_size))\n",
    "one_layer.symmetric=True"
   ]
  },
  {
   "cell_type": "code",
   "execution_count": null,
   "metadata": {
    "colab": {
     "base_uri": "https://localhost:8080/",
     "height": 498
    },
    "id": "25b-OmfL9r4R",
    "outputId": "31e60795-32d5-4e7e-d93c-827639ca2e10"
   },
   "outputs": [],
   "source": [
    "# Before training, diagonalization with PCA basis\n",
    "one_layer.plot_decomposition(n_item=50)\n",
    "one_layer.show_reconstruction(input_X)"
   ]
  },
  {
   "cell_type": "markdown",
   "metadata": {
    "id": "GKzb-XtIKFOj"
   },
   "source": [
    "#### Training"
   ]
  },
  {
   "cell_type": "code",
   "execution_count": null,
   "metadata": {
    "colab": {
     "base_uri": "https://localhost:8080/",
     "height": 66,
     "referenced_widgets": [
      "b2ef3e1478454093a0b3d7b8bc626205",
      "debd679b8370433797b550af37832882",
      "c534b0e33cdd49f68fa8c305ec0b26c2",
      "9ce66e03c5254e94b41ceac118890e47",
      "d2c184d957e94c1f9e03d579f06f4fd3",
      "2ddcfea3af51406e8da846dbd67bde90",
      "e26ebe2ce01c4e55a4856f4b718a03d3",
      "b5a90347f50b4e6f81a399330cc65bed"
     ]
    },
    "id": "l1G08vBjCnOY",
    "outputId": "8ecb3d62-bdf0-41ac-f0de-9af1781371df"
   },
   "outputs": [],
   "source": [
    "# Training\n",
    "loss_val, diag_val, weights = pca_learning(input_X, one_layer, n_epoch=1000, batch_size=16384, n_item=50, sgd=True,\n",
    "                                 lr=1, return_weight_every=1)"
   ]
  },
  {
   "cell_type": "code",
   "execution_count": null,
   "metadata": {
    "colab": {
     "base_uri": "https://localhost:8080/",
     "height": 265
    },
    "id": "-gK9e8pJPJ_4",
    "outputId": "ca025f56-4b05-498b-c877-204340c7dd90"
   },
   "outputs": [],
   "source": [
    "def plot_temporal(diag_val, t_step, n_plot=20,cmap=\"Blues\"):\n",
    "  colors = sns.color_palette(cmap,n_colors=n_plot)\n",
    "  for idx in range(n_plot):\n",
    "    p=plt.plot(range(t_step), diag_val[:t_step, idx], c=colors[-(idx+1)])\n",
    "  sm = plt.cm.ScalarMappable(cmap=plt.get_cmap(cmap+'_r'), norm=plt.Normalize(0,n_plot))\n",
    "  cb=plt.colorbar(sm)\n",
    "  cb.set_label(label=\"PCA #\", fontsize=20)\n",
    "\n",
    "  \n",
    "\n",
    "plot_temporal(diag_val, t_step=500, n_plot=50, cmap='Spectral')\n",
    "plt.xlabel(\"Learning steps\", fontsize=20)\n",
    "plt.ylabel(\"Proportion learned\", fontsize=20)\n",
    "# plt.savefig(\"figures/pca_learning_1layer.svg\")"
   ]
  },
  {
   "cell_type": "code",
   "execution_count": null,
   "metadata": {},
   "outputs": [],
   "source": [
    "def learning_3d(diag_val, low=1,high=50, n_epoch=1000, n_every=100):\n",
    "    n=n_epoch//n_every\n",
    "    fig = plt.figure(figsize=(8,5))\n",
    "    ax = fig.add_subplot(111, projection='3d')\n",
    "    m=1\n",
    "    x = np.linspace(low,high)/64*100\n",
    "    y = np.arange(0,n_epoch, n_every//m)\n",
    "    X,Y = np.meshgrid(x,y)\n",
    "    Z = np.zeros((len(y),len(x)))\n",
    "    \n",
    "    for i in range(n):\n",
    "        \n",
    "        \n",
    "        Z[m*i] = diag_val[i*n_every]\n",
    "    ax.plot_surface(X, Y, Z, rstride=50, cstride=2, color='w', \n",
    "                        shade=False, lw=.5, edgecolors='k', zorder=10)\n",
    "\n",
    "    ax.set_zlim(0, 1)\n",
    "#     ax.set_xlim(-51, 51)\n",
    "    ax.set_zlabel(\"Percentage learned\",fontsize=15,labelpad=10)\n",
    "    ax.set_xlabel(\"PCA basis\",fontsize=15,labelpad=10)\n",
    "    ax.set_ylabel(\"Epoch\", fontsize=15)\n",
    "    plt.tight_layout()\n",
    "#     ax.view_init(30,-70)\n",
    "learning_3d(diag_val, n_every=1)"
   ]
  },
  {
   "cell_type": "markdown",
   "metadata": {},
   "source": [
    "#### Fisher of each basis\n",
    "This is $\\sum_i\\frac{\\partial Wx}{\\partial v_i}^2x$. In the axis-aligned case it's $\\sigma_i(t)$."
   ]
  },
  {
   "cell_type": "markdown",
   "metadata": {},
   "source": [
    "#### Sinusoidal gratings"
   ]
  },
  {
   "cell_type": "code",
   "execution_count": null,
   "metadata": {},
   "outputs": [],
   "source": [
    "def plot_webers(list_of_weights, low=1,high=10,n_x=20, n_epoch=1000, n_every=50, n_phases=1, which=None,\n",
    "               cmap='cividis_r', contrast=1):\n",
    "    n=len(list_of_weights)\n",
    "#     fig = plt.figure(figsize=(6,5), dpi=100)\n",
    "    colors = sns.color_palette(cmap,n_colors=n, )\n",
    "\n",
    "    m=10\n",
    "    x = np.linspace(low,high,n_x)/64*100\n",
    "    if which is None:\n",
    "        which = range(0,n,n_every)\n",
    "    for i in which:\n",
    "        sensitivity = get_sensitivity(None, weight=list_of_weights[i].cuda(), n_phases=n_phases, plot=False, \n",
    "                                      n=n_x, contrast=contrast)\n",
    "\n",
    "        plt.plot(x,np.power( sensitivity,-.5), c=colors[i])\n",
    "    sm = plt.cm.ScalarMappable(cmap=plt.get_cmap(cmap), norm=plt.Normalize(0,n_epoch))\n",
    "    cb=plt.colorbar(sm)\n",
    "    cb.set_label(label=\"Learning steps\", fontsize=15)\n",
    "    plt.xlabel(\"Spatial frequency\\n (cycles/100 pix.)\", fontsize=20)\n",
    "    plt.ylabel(r\"Threshold ($D(\\theta)^{-\\frac{1}{2}}$)\", fontsize=20)\n",
    "    \n",
    "plot_webers(weights[:], which=list(range(0,1000,50)) ,n_phases=16, contrast=1)\n",
    "plt.tight_layout()\n",
    "# plt.savefig(\"figures/webers_1layer.svg\")"
   ]
  },
  {
   "cell_type": "code",
   "execution_count": null,
   "metadata": {},
   "outputs": [],
   "source": [
    "def time_to_thresh(weights, sigma, delta=0.01):\n",
    "    thresholds =[]\n",
    "    thresh=1\n",
    "    jnd=10\n",
    "    old_jnd=10\n",
    "    for w in tqdm(weights):\n",
    "        included=False\n",
    "        while not included:\n",
    "            sensitivity = get_sensitivity(None, low=thresh,high=thresh+delta,n=1, weight=w.cuda(), \n",
    "                                          n_phases=64, plot=False, log_x=False)\n",
    "            jnd = np.power(sensitivity,-.5)[0]\n",
    "            if jnd > sigma and old_jnd < sigma:\n",
    "                thresholds.append(thresh)\n",
    "                included=True\n",
    "                old_jnd=0\n",
    "            elif thresh>20:\n",
    "                thresh=0\n",
    "                thresholds.append(thresh)\n",
    "                included=True\n",
    "            else: \n",
    "                thresh+=delta\n",
    "                old_jnd=jnd\n",
    "            \n",
    "    return thresholds\n",
    "thresholds=time_to_thresh(weights[2:],.1, .05)"
   ]
  },
  {
   "cell_type": "code",
   "execution_count": null,
   "metadata": {},
   "outputs": [],
   "source": [
    "plt.figure(figsize=(5,4))\n",
    "\n",
    "x=np.arange(2,1000)/64*100\n",
    "y=thresholds\n",
    "plt.plot(x[10:],np.power(thresholds[10:],2),'.',c='k')\n",
    "# plt.gca().set_yscale('log')\n",
    "# plt.gca().set_xscale('log')\n",
    "plt.ylabel(\"Network acuity\\n(max freq. w/ thresh. <.1)\",fontsize=20)\n",
    "plt.xlabel(\"Learning steps\",fontsize=20)\n",
    "plt.tight_layout()\n",
    "# plt.savefig(\"figures/linear_learning_linscale.svg\")"
   ]
  },
  {
   "cell_type": "markdown",
   "metadata": {
    "id": "ClW__pKTB7jx"
   },
   "source": [
    "### Two-Layer\n",
    "\n",
    "$$\\hat{X}=W_2W_1X$$"
   ]
  },
  {
   "cell_type": "code",
   "execution_count": null,
   "metadata": {
    "id": "c51Mw8IaB-e0"
   },
   "outputs": [],
   "source": [
    "n_comp = 50\n",
    "input_size = 32 * 32\n",
    "\n",
    "deep_net = LinearNetwork(pca_basis, 0.01, (input_size, input_size), (input_size, input_size))"
   ]
  },
  {
   "cell_type": "code",
   "execution_count": null,
   "metadata": {
    "colab": {
     "base_uri": "https://localhost:8080/",
     "height": 66,
     "referenced_widgets": [
      "0507fad5fa9941b4875361848aca85c2",
      "b852b890361441eea4408de2911246f3",
      "860920ac04db44858b21180f744a3099",
      "566a09cc84d24f21b396f9c003f9669b",
      "a55c271d782f4a5c8c53566fe85c4fc3",
      "cb6fe4dd32fc4dfa87b1b570d9b23149",
      "41460a503e7a46d5ad76f8db7ba4c2dd",
      "164dc74da18e459082a2e56211a39e13"
     ]
    },
    "id": "V6P4xCbfCV88",
    "outputId": "aeaed7a3-c0aa-4be6-f460-9a94ee253962"
   },
   "outputs": [],
   "source": [
    "# Training\n",
    "n_epoch =1000\n",
    "loss_val, diag_val,weights2 = pca_learning(input_X, deep_net, n_epoch=n_epoch, batch_size=4096, n_item=50, sgd=True, lr=1, \n",
    "                                 return_weight_every=10)"
   ]
  },
  {
   "cell_type": "code",
   "execution_count": null,
   "metadata": {},
   "outputs": [],
   "source": [
    "plot_temporal(diag_val, t_step=1000, n_plot=50, cmap='Spectral')\n",
    "plt.xlabel(\"Epoch\", fontsize=15)\n",
    "plt.ylabel(\"Proportion learned\", fontsize=15)\n",
    "# plt.savefig(\"pca_learning_2layer.pdf\")"
   ]
  },
  {
   "cell_type": "code",
   "execution_count": null,
   "metadata": {},
   "outputs": [],
   "source": [
    "def plot_webers(list_of_weights, low=1,high=10,n_x=20, n_epoch=1000, n_every=50, n_phases=1,\n",
    "               cmap='Blues_r',from_=0):\n",
    "    n=len(list_of_weights)\n",
    "#     fig = plt.figure(figsize=(6,5), dpi=100)\n",
    "    colors = sns.color_palette(cmap,n_colors=n)\n",
    "\n",
    "    m=10\n",
    "    x = np.linspace(low,high,n_x)/64*100\n",
    "    \n",
    "    for i in range(from_,n,n_every):\n",
    "        sensitivity = get_sensitivity(None, weight=list_of_weights[i].cuda(), n_phases=n_phases, plot=False, n=n_x)\n",
    "\n",
    "        plt.plot(x,np.power( sensitivity,-.5), c=colors[i])\n",
    "    sm = plt.cm.ScalarMappable(cmap=plt.get_cmap(cmap), norm=plt.Normalize(0,n_epoch))\n",
    "    cb=plt.colorbar(sm)\n",
    "    cb.set_label(label=\"Epoch\", fontsize=15)\n",
    "    plt.xlabel(\"Cycles/ 100 pixels\", fontsize=15)\n",
    "    plt.ylabel(r\"Threshold $J(\\theta)^{-\\frac{1}{2}}$\", fontsize=15)\n",
    "plot_webers(weights2, from_=3, n_every=10,n_phases=27)\n",
    "# plt.savefig(\"webers_2layer.pdf\")"
   ]
  },
  {
   "cell_type": "code",
   "execution_count": null,
   "metadata": {
    "colab": {
     "base_uri": "https://localhost:8080/",
     "height": 265
    },
    "id": "azGA7TZtJmEf",
    "outputId": "52f55949-9691-4aee-f6c3-b7a73824179e",
    "scrolled": true
   },
   "outputs": [],
   "source": [
    "plot_temporal(diag_val, t_step=200, n_plot=15)"
   ]
  },
  {
   "cell_type": "markdown",
   "metadata": {
    "id": "ClW__pKTB7jx"
   },
   "source": [
    "### Three-Layer\n",
    "\n",
    "$$\\hat{X}=W_3W_2W_1X$$"
   ]
  },
  {
   "cell_type": "code",
   "execution_count": null,
   "metadata": {
    "id": "c51Mw8IaB-e0"
   },
   "outputs": [],
   "source": [
    "n_comp = 50\n",
    "input_size = 32 * 32\n",
    "\n",
    "three_net = LinearNetwork(pca_basis, 0.02, (input_size, input_size),(input_size, input_size), (input_size, input_size))"
   ]
  },
  {
   "cell_type": "code",
   "execution_count": null,
   "metadata": {
    "colab": {
     "base_uri": "https://localhost:8080/",
     "height": 66,
     "referenced_widgets": [
      "0507fad5fa9941b4875361848aca85c2",
      "b852b890361441eea4408de2911246f3",
      "860920ac04db44858b21180f744a3099",
      "566a09cc84d24f21b396f9c003f9669b",
      "a55c271d782f4a5c8c53566fe85c4fc3",
      "cb6fe4dd32fc4dfa87b1b570d9b23149",
      "41460a503e7a46d5ad76f8db7ba4c2dd",
      "164dc74da18e459082a2e56211a39e13"
     ]
    },
    "id": "V6P4xCbfCV88",
    "outputId": "aeaed7a3-c0aa-4be6-f460-9a94ee253962"
   },
   "outputs": [],
   "source": [
    "# Training\n",
    "n_epoch = 1000\n",
    "loss_val, diag_val, weights3 = pca_learning(input_X, three_net, n_epoch=n_epoch, batch_size=4096, n_item=50, sgd=True, lr=1,\n",
    "                                 return_weight_every=100)"
   ]
  },
  {
   "cell_type": "code",
   "execution_count": null,
   "metadata": {},
   "outputs": [],
   "source": [
    "plot_temporal(diag_val, t_step=1000, n_plot=50, cmap='Spectral')\n",
    "plt.xlabel(\"Epoch\", fontsize=15)\n",
    "plt.ylabel(\"Proportion learned\", fontsize=15)\n",
    "# plt.savefig(\"pca_learning_3layer.pdf\")"
   ]
  },
  {
   "cell_type": "code",
   "execution_count": null,
   "metadata": {},
   "outputs": [],
   "source": [
    "plot_webers(weights3[1:], n_every=100,n_phases=27)\n",
    "# plt.savefig(\"webers_3layer.pdf\")"
   ]
  },
  {
   "cell_type": "code",
   "execution_count": null,
   "metadata": {
    "colab": {
     "base_uri": "https://localhost:8080/",
     "height": 265
    },
    "id": "azGA7TZtJmEf",
    "outputId": "52f55949-9691-4aee-f6c3-b7a73824179e",
    "scrolled": true
   },
   "outputs": [],
   "source": [
    "plot_temporal(diag_val, t_step=500, n_plot=15)\n",
    "# plt.axis('off')\n",
    "# plt.savefig(\"Evolution.pdf\")\n",
    "\n",
    "plt.show()"
   ]
  },
  {
   "cell_type": "code",
   "execution_count": null,
   "metadata": {},
   "outputs": [],
   "source": [
    "get_sensitivity(three_net)"
   ]
  }
 ],
 "metadata": {
  "kernelspec": {
   "display_name": "Python [conda env:.conda-pytorch] *",
   "language": "python",
   "name": "conda-env-.conda-pytorch-py"
  },
  "language_info": {
   "codemirror_mode": {
    "name": "ipython",
    "version": 3
   },
   "file_extension": ".py",
   "mimetype": "text/x-python",
   "name": "python",
   "nbconvert_exporter": "python",
   "pygments_lexer": "ipython3",
   "version": "3.6.12"
  }
 },
 "nbformat": 4,
 "nbformat_minor": 1
}
