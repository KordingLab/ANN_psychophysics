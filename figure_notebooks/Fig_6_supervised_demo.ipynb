{
 "cells": [
  {
   "cell_type": "markdown",
   "metadata": {},
   "source": [
    "# Imports and helper functions"
   ]
  },
  {
   "cell_type": "code",
   "execution_count": 1,
   "metadata": {},
   "outputs": [],
   "source": [
    "import numpy as np\n",
    "import torch\n",
    "import sys\n",
    "from matplotlib import pyplot as plt\n",
    "%matplotlib inline\n",
    "\n",
    "import seaborn as sns\n",
    "\n",
    "from scipy.stats import linregress\n",
    "from tqdm import tqdm\n",
    "\n",
    "plt.style.use('seaborn-white', )\n",
    "plt.rcParams['axes.labelsize'] =  25\n",
    "plt.rcParams['ytick.labelsize'] = 15.0\n",
    "plt.rcParams['xtick.labelsize'] = 15.0\n",
    "plt.rcParams['pdf.fonttype'] = 42\n",
    "plt.rcParams['ps.fonttype'] = 42\n",
    "\n",
    "import sys\n",
    "sys.path.insert(0, \"..\")\n",
    "\n",
    "from scripts.orientation_stim import broadband_noise, gabor, grating, circular_mask\n"
   ]
  },
  {
   "cell_type": "code",
   "execution_count": 2,
   "metadata": {},
   "outputs": [],
   "source": [
    "from torch import nn\n",
    "import torch.nn.functional as F"
   ]
  },
  {
   "cell_type": "code",
   "execution_count": 3,
   "metadata": {},
   "outputs": [
    {
     "data": {
      "text/plain": [
       "[<matplotlib.lines.Line2D at 0x7f97b6a6c5c0>]"
      ]
     },
     "execution_count": 3,
     "metadata": {},
     "output_type": "execute_result"
    },
    {
     "data": {
      "image/png": "[encoded data removed]",
      "text/plain": [
       "<Figure size 432x288 with 1 Axes>"
      ]
     },
     "metadata": {},
     "output_type": "display_data"
    }
   ],
   "source": [
    "import scipy.stats as st\n",
    "\n",
    "class my_pdf(st.rv_continuous):\n",
    "    def __init__(self, *args, **kwargs):\n",
    "        super().__init__(*args, **kwargs)\n",
    "    \n",
    "    def _pdf(self,x):\n",
    "        return (-np.cos(2*x)+2)/(2*np.pi)\n",
    "\n",
    "my_cv = my_pdf(a=0, b=np.pi, name='my_pdf')\n",
    "# plt.hist(my_cv.rvs(size=1000))\n",
    "plt.plot(np.linspace(0,np.pi,100), my_cv._pdf(np.linspace(0,np.pi,100)))"
   ]
  },
  {
   "cell_type": "code",
   "execution_count": 4,
   "metadata": {},
   "outputs": [],
   "source": [
    "def circular_mse(x1,x2):\n",
    "    \"\"\" Returns MSE, but if distance is greater than pi/2 then choose the shorter circular path.\n",
    "    pi/2 instead of pi since orientation repeats at pi\"\"\"\n",
    "    x2p = torch.where((x1-x2)>np.pi/2, x2+np.pi, x2)\n",
    "    x1p = torch.where((x2-x1)>np.pi/2, x1+np.pi, x1)\n",
    "    r1= F.mse_loss(x1p,x2p)\n",
    "    return r1\n",
    "\n"
   ]
  },
  {
   "cell_type": "code",
   "execution_count": 5,
   "metadata": {},
   "outputs": [],
   "source": [
    "def get_rot_mat(theta, device=\"cuda:0\"):\n",
    "    if isinstance(theta,torch.Tensor):\n",
    "        theta = theta.to(device).clone().detach()\n",
    "    else:\n",
    "        theta = torch.tensor(theta, device=device)\n",
    "    return torch.tensor([[torch.cos(theta), -torch.sin(theta), 0],\n",
    "                         [torch.sin(theta), torch.cos(theta), 0]], device=device)\n",
    "\n",
    "\n",
    "def rot_img(x, theta, dtype,device=\"cuda:0\"):\n",
    "    rot_mat = get_rot_mat(theta, device=device)[None, ...].type(dtype).repeat(x.shape[0],1,1)\n",
    "    grid = F.affine_grid(rot_mat, x.size(),align_corners=False).type(dtype)\n",
    "    x = F.grid_sample(x, grid, align_corners=False, )\n",
    "    return x"
   ]
  },
  {
   "cell_type": "code",
   "execution_count": 6,
   "metadata": {},
   "outputs": [
    {
     "ename": "RuntimeError",
     "evalue": "CUDA error: out of memory\nCUDA kernel errors might be asynchronously reported at some other API call,so the stacktrace below might be incorrect.\nFor debugging consider passing CUDA_LAUNCH_BLOCKING=1.",
     "output_type": "error",
     "traceback": [
      "\u001b[0;31m---------------------------------------------------------------------------\u001b[0m",
      "\u001b[0;31mRuntimeError\u001b[0m                              Traceback (most recent call last)",
      "\u001b[0;32m<ipython-input-6-0d8339223292>\u001b[0m in \u001b[0;36m<module>\u001b[0;34m\u001b[0m\n\u001b[0;32m----> 1\u001b[0;31m \u001b[0mblur_mask\u001b[0m \u001b[0;34m=\u001b[0m \u001b[0mtorch\u001b[0m\u001b[0;34m.\u001b[0m\u001b[0mtensor\u001b[0m\u001b[0;34m(\u001b[0m\u001b[0mcircular_mask\u001b[0m\u001b[0;34m(\u001b[0m\u001b[0;36m64\u001b[0m\u001b[0;34m,\u001b[0m \u001b[0mpixelsPerDegree\u001b[0m\u001b[0;34m=\u001b[0m\u001b[0;36m30\u001b[0m\u001b[0;34m,\u001b[0m\u001b[0mif_filtered\u001b[0m\u001b[0;34m=\u001b[0m\u001b[0;32mTrue\u001b[0m\u001b[0;34m)\u001b[0m\u001b[0;34m,\u001b[0m \u001b[0mdevice\u001b[0m\u001b[0;34m=\u001b[0m\u001b[0;34m\"cuda:0\"\u001b[0m\u001b[0;34m)\u001b[0m\u001b[0;34m\u001b[0m\u001b[0;34m\u001b[0m\u001b[0m\n\u001b[0m\u001b[1;32m      2\u001b[0m \u001b[0;34m\u001b[0m\u001b[0m\n\u001b[1;32m      3\u001b[0m \u001b[0;32mdef\u001b[0m \u001b[0msinusoid\u001b[0m\u001b[0;34m(\u001b[0m\u001b[0mfreq\u001b[0m\u001b[0;34m,\u001b[0m\u001b[0mphase\u001b[0m\u001b[0;34m=\u001b[0m\u001b[0;36m0\u001b[0m\u001b[0;34m,\u001b[0m \u001b[0morientation\u001b[0m\u001b[0;34m=\u001b[0m\u001b[0;36m0\u001b[0m\u001b[0;34m,\u001b[0m \u001b[0mdevice\u001b[0m\u001b[0;34m=\u001b[0m\u001b[0;34m\"cuda:0\"\u001b[0m\u001b[0;34m)\u001b[0m\u001b[0;34m:\u001b[0m\u001b[0;34m\u001b[0m\u001b[0;34m\u001b[0m\u001b[0m\n\u001b[1;32m      4\u001b[0m     \u001b[0marr\u001b[0m\u001b[0;34m=\u001b[0m \u001b[0mtorch\u001b[0m\u001b[0;34m.\u001b[0m\u001b[0mones\u001b[0m\u001b[0;34m(\u001b[0m\u001b[0;36m1\u001b[0m\u001b[0;34m,\u001b[0m\u001b[0;36m1\u001b[0m\u001b[0;34m,\u001b[0m\u001b[0;36m64\u001b[0m\u001b[0;34m,\u001b[0m\u001b[0;36m64\u001b[0m\u001b[0;34m,\u001b[0m \u001b[0mdevice\u001b[0m\u001b[0;34m=\u001b[0m\u001b[0mdevice\u001b[0m\u001b[0;34m)\u001b[0m\u001b[0;34m\u001b[0m\u001b[0;34m\u001b[0m\u001b[0m\n\u001b[1;32m      5\u001b[0m     \u001b[0marr\u001b[0m\u001b[0;34m*=\u001b[0m\u001b[0mtorch\u001b[0m\u001b[0;34m.\u001b[0m\u001b[0mlinspace\u001b[0m\u001b[0;34m(\u001b[0m\u001b[0;36m0\u001b[0m\u001b[0;34m,\u001b[0m\u001b[0;36m3.14159\u001b[0m\u001b[0;34m,\u001b[0m\u001b[0;36m64\u001b[0m\u001b[0;34m,\u001b[0m \u001b[0mdevice\u001b[0m\u001b[0;34m=\u001b[0m\u001b[0mdevice\u001b[0m\u001b[0;34m)\u001b[0m\u001b[0;34m\u001b[0m\u001b[0;34m\u001b[0m\u001b[0m\n",
      "\u001b[0;31mRuntimeError\u001b[0m: CUDA error: out of memory\nCUDA kernel errors might be asynchronously reported at some other API call,so the stacktrace below might be incorrect.\nFor debugging consider passing CUDA_LAUNCH_BLOCKING=1."
     ]
    }
   ],
   "source": [
    "blur_mask = torch.tensor(circular_mask(64, pixelsPerDegree=30,if_filtered=True), device=\"cuda:0\")\n",
    "                         \n",
    "def sinusoid(freq,phase=0, orientation=0, device=\"cuda:0\"):\n",
    "    arr= torch.ones(1,1,64,64, device=device)\n",
    "    arr*=torch.linspace(0,3.14159,64, device=device)\n",
    "    arr2d = torch.cos(freq*arr+phase)\n",
    "    arr2d = rot_img(arr2d, orientation + np.pi/2, arr2d.dtype, device=device)[0,0]\n",
    "    x, y = torch.meshgrid(torch.arange(64, device=device), torch.arange(64, device=device))\n",
    "    x = (x - 64 / 2.0)\n",
    "    y = (y - 64 / 2.0)\n",
    "    arr2d *= blur_mask\n",
    "    return arr2d[None]\n",
    "    "
   ]
  },
  {
   "cell_type": "code",
   "execution_count": null,
   "metadata": {},
   "outputs": [],
   "source": [
    "plt.imshow(sinusoid(10,0,0)[0].cpu(), cmap='Greys')\n",
    "plt.axis('off')"
   ]
  },
  {
   "cell_type": "code",
   "execution_count": null,
   "metadata": {},
   "outputs": [],
   "source": [
    "def get_sensitivity(func, i, eps=1e-3):\n",
    "    diff= (func(i+eps) - func(i-eps))/(2*eps)\n",
    "    return diff.pow(2).sum()"
   ]
  },
  {
   "cell_type": "markdown",
   "metadata": {},
   "source": [
    "### With output noise instead of input noise"
   ]
  },
  {
   "cell_type": "code",
   "execution_count": 12,
   "metadata": {},
   "outputs": [],
   "source": [
    "### MSE vs theta\n",
    "def plot_map_sin(net,n_bins=30,n=60,ax=None):\n",
    "    if ax==None:\n",
    "        plt.figure()\n",
    "        ax=plt.gca()\n",
    "    orientations = torch.linspace(0,np.pi,n).view(n,1).expand(n,1).reshape(-1)\n",
    "    orientation_stim = [sinusoid(10,0,o.numpy(), device='cuda:0') for o in orientations]\n",
    "    orientation_stim = torch.stack(orientation_stim)[:,None].cuda()\n",
    "    orientations = torch.Tensor(orientations)[:,None].cuda()\n",
    "\n",
    "    _,_,o_est = net(orientation_stim)\n",
    "\n",
    "#     ax.plot(torch.linspace(0,np.pi,n_bins),err.detach().cpu().numpy())\n",
    "    ax.plot(torch.linspace(0,np.pi,n),o_est.argmax(1).detach().cpu().numpy() * (np.pi/n_bins))\n",
    "#     plt.ylim(0,2)\n",
    "\n",
    "# plot_map_sin(net)"
   ]
  },
  {
   "cell_type": "code",
   "execution_count": 13,
   "metadata": {},
   "outputs": [],
   "source": [
    "    \n",
    "class FFNet(nn.Module):\n",
    "    def __init__(self, scale=1, n_out=60, linear=False):\n",
    "        super().__init__()\n",
    "        self.linear1 = nn.Sequential(nn.Linear(64**2, 32**2)) if linear else nn.Sequential(nn.Linear(64**2, 32**2),nn.ReLU())\n",
    "        self.linear2 = nn.Sequential(nn.Linear(32**2, 16**2)) if linear else nn.Sequential(nn.Linear(32**2, 16**2),nn.ReLU(),)\n",
    "        self.linear3 = nn.Sequential(nn.Linear(16**2, n_out))\n",
    "        self.n_out = n_out\n",
    "        for mod in (self.linear1, self.linear2, self.linear3):\n",
    "            mod[0].weight.data *= scale\n",
    "            mod[0].bias.data *= scale\n",
    "        \n",
    "    def forward(self,x):\n",
    "        low = self.linear1(x.view(-1,64**2))\n",
    "        mid = self.linear2(low)\n",
    "        top = self.linear3(mid) \n",
    "        theta = F.log_softmax(top,1)\n",
    "        return low,mid,theta.view(-1,self.n_out)\n",
    "    \n",
    "    "
   ]
  },
  {
   "cell_type": "code",
   "execution_count": 14,
   "metadata": {},
   "outputs": [
    {
     "data": {
      "text/plain": [
       "tensor([24.9443, 27.6859, 29.4505, 30.0958, 27.7567, 27.1945, 26.6837, 26.8943,\n",
       "        28.7489, 27.9037, 26.3678, 27.3474, 27.3158, 29.4604, 29.7061, 29.0295,\n",
       "        28.7243, 28.0406, 26.1409, 26.1940, 26.3969, 26.3996, 26.5355, 27.4659,\n",
       "        27.9386, 28.3467, 27.9909, 26.3333, 25.6950, 26.0909, 27.2232, 28.1668,\n",
       "        28.2387, 28.3228, 28.9182, 29.1832, 29.3255, 28.9101, 27.6648, 27.6423,\n",
       "        26.8841, 27.4991, 29.4706, 27.9432, 27.4807, 27.0331, 27.8351, 25.6531,\n",
       "        25.9725, 27.1708, 26.5476, 26.8668, 26.9207, 27.0483, 26.7927, 27.7384,\n",
       "        27.1704, 28.2655, 27.1808, 24.9581])"
      ]
     },
     "execution_count": 14,
     "metadata": {},
     "output_type": "execute_result"
    }
   ],
   "source": [
    "def plot_sensitivity(net, n=60,n_phases=11,ax=None, layer=0):\n",
    "#     if ax==None:\n",
    "#         plt.figure()\n",
    "#         ax = plt.gca()\n",
    "    orients = [torch.autograd.Variable(o, requires_grad=True) for o in torch.linspace(0,np.pi,n)]\n",
    "    net.cuda()\n",
    "    sensitivity=[]\n",
    "    for o in orients:\n",
    "        all_sens=[]\n",
    "\n",
    "        for phase in np.linspace(0,np.pi,n_phases):\n",
    "            def func(x):\n",
    "                outputs = net(sinusoid(10,phase,x, device=\"cuda:0\")[None].view(-1,64**2))\n",
    "                return outputs[layer].exp() if layer ==-1 else outputs[layer]\n",
    "            all_sens.append(get_sensitivity(func, o))\n",
    "        sensitivity.append(torch.stack(all_sens).mean().detach().cpu())\n",
    "    sensitivity = torch.stack(sensitivity)\n",
    "#     sensitivity /= torch.sum(sensitivity)/50\n",
    "    \n",
    "#     ax.plot(np.linspace(0,np.pi,n),my_cv._pdf(np.linspace(0,np.pi,n)))\n",
    "#     ax.plot(np.linspace(0,np.pi,n),sensitivity)\n",
    "    return sensitivity\n",
    "\n",
    "net = FFNet(.1).cuda()\n",
    "plot_sensitivity(net)"
   ]
  },
  {
   "cell_type": "code",
   "execution_count": 15,
   "metadata": {},
   "outputs": [],
   "source": [
    "def one_hot_orientation(o, n_bins=60):\n",
    "    # first bin\n",
    "    o = (o /np.pi * n_bins).to(int)\n",
    "    return F.one_hot(o.squeeze(), n_bins)\n",
    "def discretize(o,n_bins=60):\n",
    "    assert o.max() <= np.pi and o.min()>=0\n",
    "    o = (o /np.pi * n_bins).to(int)\n",
    "    return o.squeeze()\n",
    "\n",
    "# one_hot_orientation(torch.zeros(1));discretize(o);"
   ]
  },
  {
   "cell_type": "code",
   "execution_count": 16,
   "metadata": {},
   "outputs": [],
   "source": [
    "def pos_angle(o):\n",
    "    o = torch.where(o<0,     np.pi-o, o)\n",
    "    o = torch.where(o>np.pi, o-np.pi, o)\n",
    "    return o"
   ]
  },
  {
   "cell_type": "markdown",
   "metadata": {},
   "source": [
    "#### specify $H[\\hat{\\theta}|\\theta]$ as a function of $p(\\theta)$.\n",
    "\n",
    "\n"
   ]
  },
  {
   "cell_type": "code",
   "execution_count": 17,
   "metadata": {},
   "outputs": [],
   "source": [
    "def noise_labels(y, ps):\n",
    "    \"\"\"Applies Bernoulli noise on the output labels with probability\n",
    "    ps. p=1 corresponds to no noise. In the event of a noise-induced dropout, places mass on a null category.\n",
    "    Assumes y is not 1hot but rather numerical category indicator, like F.nll_loss\"\"\"\n",
    "    n_categories = len(ps)\n",
    "    not_dropped = torch.bernoulli(ps[y]).to(y.device)\n",
    "    y = torch.where(not_dropped.bool(), y, n_categories)\n",
    "    return y\n",
    "\n",
    "\n",
    "def fake_noise_labels(y,ps):\n",
    "    \"\"\"ACts like noise_labels, but goes as deterministically as possible, dropping as close to 1-ps proportion\n",
    "    as doable\"\"\"\n",
    "    for l in range(len(ps)):\n",
    "        idx = torch.where(y==l)[0]\n",
    "        n_to_drop = int(len(idx) - len(idx)*ps[l])\n",
    "        y[idx[:n_to_drop]] = len(ps)\n",
    "    return y\n",
    "\n",
    "    \n",
    "assert (noise_labels(torch.arange(5), torch.ones(5)) -  torch.arange(5)).sum() ==0\n",
    "assert (noise_labels(torch.arange(5), torch.zeros(5)) - torch.ones(5)*5).sum() ==0\n",
    "    \n",
    "assert (fake_noise_labels(torch.arange(5), torch.ones(5)) -  torch.arange(5)).sum() ==0\n",
    "assert (fake_noise_labels(torch.arange(5), torch.zeros(5)) - torch.ones(5)*5).sum() ==0"
   ]
  },
  {
   "cell_type": "code",
   "execution_count": 18,
   "metadata": {},
   "outputs": [],
   "source": [
    "n_bins=60\n",
    "\n",
    "\n",
    "# A flat spectrum \n",
    "W = torch.linalg.qr(torch.randn(n_bins,n_bins), )[0]\n",
    "Y = F.one_hot(torch.arange(n_bins).repeat(500), n_bins).float() # (n_binsx50) x nbins\n",
    "X = Y@W \n",
    "# X.size()\n",
    "torch.svd(X.T@Y, compute_uv=False)[1]\n",
    "\n",
    "# a nonflat spectrum\n",
    "Y_noisy =  F.one_hot(fake_noise_labels(torch.arange(n_bins).repeat(500), torch.linspace(0,1,n_bins)), n_bins+1).float()\n",
    "torch.svd(X.T@Y_noisy[:,:-1], compute_uv=False)[1].numpy();\n",
    "\n"
   ]
  },
  {
   "cell_type": "code",
   "execution_count": 19,
   "metadata": {},
   "outputs": [
    {
     "data": {
      "text/plain": [
       "[<matplotlib.lines.Line2D at 0x7f8eae47b710>]"
      ]
     },
     "execution_count": 19,
     "metadata": {},
     "output_type": "execute_result"
    },
    {
     "data": {
      "image/png": "[encoded data removed]",
      "text/plain": [
       "<Figure size 432x288 with 1 Axes>"
      ]
     },
     "metadata": {},
     "output_type": "display_data"
    }
   ],
   "source": [
    "n_out = 60\n",
    "net = nn.Sequential(nn.Linear(n_out,650),nn.Linear(650,n_out), nn.LogSoftmax(dim=1)).cuda()\n",
    "\n",
    "#control init\n",
    "scale=1\n",
    "for mod in net[:-1]:\n",
    "    mod.weight.data *= scale\n",
    "    mod.bias.data *= scale\n",
    "\n",
    "optim = torch.optim.SGD(net.parameters(),0.1)\n",
    "net.train()\n",
    "losses = []\n",
    "\n",
    "for i in range(1000):\n",
    "        \n",
    "        \n",
    "    y = torch.randint(0,n_out, size=(128,))\n",
    "    Y = F.one_hot(y,n_out).float()\n",
    "    X = Y@W\n",
    "    noised_y = noise_labels(y,#torch.ones(n_out)\n",
    "                            torch.linspace(0,1,n_out)\n",
    "                           )\n",
    "    \n",
    "    \n",
    "    Y_hat = net(X.cuda()).squeeze()\n",
    "    Y_hat = torch.cat((Y_hat, -1e-10*torch.zeros(128,1, device=Y_hat.device)),dim=1) # don't train the null\n",
    "    loss = F.nll_loss(Y_hat.cpu(), noised_y.squeeze())\n",
    "    \n",
    "    loss.backward()\n",
    "#     nn.utils.clip_grad_norm_(net.parameters(), 100)\n",
    "    optim.step()   \n",
    "    losses.append(loss.item())\n",
    "plt.semilogy(losses)"
   ]
  },
  {
   "cell_type": "code",
   "execution_count": 20,
   "metadata": {},
   "outputs": [
    {
     "data": {
      "text/plain": [
       "tensor([26.6711, 27.7213, 26.6151, 27.9773, 28.8738, 29.1383, 26.7634, 26.5804,\n",
       "        27.9574, 27.1208, 27.2575, 27.8605, 28.4602, 28.3999, 28.4660, 27.7880,\n",
       "        27.6832, 27.9705, 26.6363, 25.8852, 27.0328, 28.3492, 28.6920, 27.8042,\n",
       "        28.0759, 27.9814, 27.9465, 27.7543, 26.2204, 26.4237, 27.0647, 26.0443,\n",
       "        24.2966, 25.4422, 26.3812, 25.9926, 26.1877, 25.6263, 26.8755, 26.3877,\n",
       "        26.6666, 26.7235, 26.1339, 27.2014, 28.4631, 27.8067, 26.5462, 26.9463,\n",
       "        27.2984, 28.9414, 27.4769, 27.1872, 27.0564, 27.1260, 27.4874, 27.7931,\n",
       "        28.1315, 28.0542, 27.5235, 25.4018])"
      ]
     },
     "execution_count": 20,
     "metadata": {},
     "output_type": "execute_result"
    }
   ],
   "source": [
    "def plot_sensitivity_linear(net, n_categories, n=60,n_phases=11,ax=None, layer=0):\n",
    "    if ax==None:\n",
    "        plt.figure()\n",
    "        ax = plt.gca()\n",
    "    orients = torch.linspace(0,n_categories,n)\n",
    "    sensitivity=[]\n",
    "\n",
    "    for o in orients:\n",
    "        def func(x):\n",
    "            return net(o)\n",
    "            outputs = net(sinusoid(10,phase,x, device=\"cuda:0\")[None].view(-1,64**2))\n",
    "            return outputs[layer]\n",
    "\n",
    "\n",
    "    net.cuda()\n",
    "    sensitivity=[]\n",
    "    for o in orients:\n",
    "        all_sens=[]\n",
    "\n",
    "        for phase in np.linspace(0,np.pi,n_phases):\n",
    "            def func(x):\n",
    "                outputs = net(sinusoid(10,phase,x, device=\"cuda:0\")[None].view(-1,64**2))\n",
    "                return outputs[layer]\n",
    "            all_sens.append(get_sensitivity(func, o))\n",
    "        sensitivity.append(torch.stack(all_sens).mean().detach().cpu())\n",
    "    sensitivity = torch.stack(sensitivity)\n",
    "#     sensitivity /= torch.sum(sensitivity)/50\n",
    "    \n",
    "#     ax.plot(np.linspace(0,np.pi,n),my_cv._pdf(np.linspace(0,np.pi,n)))\n",
    "    ax.plot(np.linspace(0,np.pi,n),sensitivity)\n",
    "\n",
    "net = FFNet(.1).cuda()\n",
    "plot_sensitivity(net)"
   ]
  },
  {
   "cell_type": "code",
   "execution_count": 21,
   "metadata": {},
   "outputs": [],
   "source": [
    "def binary_entropy(p):\n",
    "    return (-(1-p)*torch.log(1-p) - p*torch.log(p))/np.log(2)\n",
    "\n",
    "_p = torch.linspace(.5,1-1e-6,10000)\n",
    "_H = binary_entropy(_p)\n",
    "def inverse_binary_entropy_lookup(H):\n",
    "    return _p[torch.argmin((_H.view(-1,1)-H.view(1,-1)).abs(), 0)]\n",
    "\n",
    "H = torch.linspace(0,1,5)\n",
    "inverse_binary_entropy_lookup(H);"
   ]
  },
  {
   "cell_type": "code",
   "execution_count": 22,
   "metadata": {},
   "outputs": [
    {
     "data": {
      "text/plain": [
       "<matplotlib.legend.Legend at 0x7f8eadb86cf8>"
      ]
     },
     "execution_count": 22,
     "metadata": {},
     "output_type": "execute_result"
    },
    {
     "data": {
      "image/png": "[encoded data removed]",
      "text/plain": [
       "<Figure size 432x288 with 1 Axes>"
      ]
     },
     "metadata": {},
     "output_type": "display_data"
    }
   ],
   "source": [
    "class my_pdf(st.rv_continuous):\n",
    "    def _pdf(self,x):\n",
    "        return (-np.cos(2*x)+2)/(2*np.pi)\n",
    "my_cv = my_pdf(a=0, b=np.pi)\n",
    "\n",
    "plt.plot(my_cv._pdf(torch.linspace(0,np.pi,n_out)), label=\"PDF\")\n",
    "\n",
    "b, a = 1.3, .15\n",
    "h = b - b*a/my_cv._pdf(torch.linspace(0,np.pi,n_out))\n",
    "plt.plot(h, label = \"H\")\n",
    "plt.plot(inverse_binary_entropy_lookup(h), label=\"required Bernoulli\")\n",
    "plt.ylim(0,1)\n",
    "plt.legend()\n",
    "\n",
    "# this sets the H[x|x] = p(x)\n",
    "# what we want is that, on average over a dataset, any x is as informative as another.\n",
    "# the total information for seeing an x is the sum of seeing it once, times frequency.\n",
    "# The information conveyed about \\hat{x} by observing an x is (1-H[x|x]), (the change in H from the uniform)\n",
    "# \n",
    "# this means that p(x)(1-H[x|x]) = p(x)(1-H[x|x]) for any two orientations\n",
    "# in general this is satistfied if (1-H[x_1|x_1])/(1-H[x_2|x_2]) = p(x_2)/p(x_1)\n",
    "# or H = b(1 - a / p(x)) for some constants a, b"
   ]
  },
  {
   "cell_type": "code",
   "execution_count": 24,
   "metadata": {},
   "outputs": [
    {
     "name": "stderr",
     "output_type": "stream",
     "text": [
      "/home/abenjamin/.conda/envs/pytorch/lib/python3.6/site-packages/ipykernel_launcher.py:13: UserWarning: Tight layout not applied. The left and right margins cannot be made large enough to accommodate all axes decorations. \n",
      "  del sys.path[0]\n"
     ]
    },
    {
     "data": {
      "image/png": "[encoded data removed]",
      "text/plain": [
       "<Figure size 72x288 with 1 Axes>"
      ]
     },
     "metadata": {},
     "output_type": "display_data"
    },
    {
     "name": "stderr",
     "output_type": "stream",
     "text": [
      "/home/abenjamin/.conda/envs/pytorch/lib/python3.6/site-packages/ipykernel_launcher.py:30: UserWarning: Tight layout not applied. The left and right margins cannot be made large enough to accommodate all axes decorations. \n"
     ]
    },
    {
     "data": {
      "image/png": "[encoded data removed]",
      "text/plain": [
       "<Figure size 72x288 with 1 Axes>"
      ]
     },
     "metadata": {},
     "output_type": "display_data"
    }
   ],
   "source": [
    "plt.figure(figsize=(1,4))\n",
    "plt.plot(my_cv._pdf(torch.linspace(0,np.pi,n_out)),#inverse_binary_entropy_lookup(h),\n",
    "         torch.linspace(0,180,n_out),'b')\n",
    "ax=plt.gca()\n",
    "ax.get_xaxis().set_visible(False)\n",
    "ax.spines['top'].set_visible(False)\n",
    "ax.spines['right'].set_visible(False)\n",
    "ax.spines['bottom'].set_visible(False)\n",
    "t=ax.set_yticks([0,90,180])\n",
    "ax.set_yticklabels([0,90,180],fontsize=20)\n",
    "ax.set_xlim(.1,.5)\n",
    "ax.set_ylabel(\"Orientation (º)\",fontsize=30)\n",
    "plt.tight_layout()\n",
    "plt.savefig(\"figures/p_x_schema.svg\")\n",
    "plt.show()\n",
    "\n",
    "plt.figure(figsize=(1,4))\n",
    "plt.plot(inverse_binary_entropy_lookup(h),\n",
    "         torch.linspace(0,180,n_out),'k')\n",
    "ax=plt.gca()\n",
    "ax.get_xaxis().set_visible(False)\n",
    "ax.spines['top'].set_visible(False)\n",
    "ax.spines['right'].set_visible(False)\n",
    "ax.spines['bottom'].set_visible(False)\n",
    "ax.set_yticks([0,90,180])\n",
    "ax.set_yticklabels([0,90,180],fontsize=20)\n",
    "\n",
    "ax.set_xlim(.6,1)\n",
    "ax.set_ylabel(\"Orientation (º)\",fontsize=30)\n",
    "plt.tight_layout()\n",
    "# plt.savefig(\"figures/noise_schema.svg\")"
   ]
  },
  {
   "cell_type": "code",
   "execution_count": 25,
   "metadata": {},
   "outputs": [
    {
     "data": {
      "text/plain": [
       "[<matplotlib.lines.Line2D at 0x7f8eac367e10>]"
      ]
     },
     "execution_count": 25,
     "metadata": {},
     "output_type": "execute_result"
    },
    {
     "data": {
      "image/png": "[encoded data removed]",
      "text/plain": [
       "<Figure size 432x288 with 1 Axes>"
      ]
     },
     "metadata": {},
     "output_type": "display_data"
    }
   ],
   "source": [
    "my_cv = my_pdf(a=0, b=np.pi)\n",
    "class my_pdf_inv(st.rv_continuous):\n",
    "    def _pdf(self,x):\n",
    "        return (np.cos(2*x)+2)/(2*np.pi)\n",
    "my_cv_inv = my_pdf_inv(a=0, b=np.pi)\n",
    "plt.plot(my_cv_inv._pdf(torch.linspace(0,np.pi,n_out)), label=\"PDF\")\n",
    "plt.plot(my_cv._pdf(torch.linspace(0,np.pi,n_out)), label=\"PDF\")\n"
   ]
  },
  {
   "cell_type": "code",
   "execution_count": 27,
   "metadata": {
    "scrolled": true
   },
   "outputs": [
    {
     "name": "stderr",
     "output_type": "stream",
     "text": [
      "100%|██████████| 300/300 [39:39<00:00,  7.93s/it] \n"
     ]
    }
   ],
   "source": [
    "n_out = 60\n",
    "net = FFNet(.1,n_out=n_out).cuda()\n",
    "optim = torch.optim.SGD(net.parameters(),.5)\n",
    "net.train()\n",
    "losses = []\n",
    "batch = 2048\n",
    "\n",
    "pdf = lambda x: (torch.cos(2*x)+2)/(2*np.pi)\n",
    "orientations= torch.linspace(0,np.pi,n_out, device=\"cuda:0\")\n",
    "\n",
    "all_sensitivity = []\n",
    "# plt.figure()\n",
    "# ax = plt.gca()\n",
    "cat_of_interest = [0,15,30]\n",
    "accuracy_by_category = -torch.ones(300,n_out)\n",
    "for i in tqdm(range(300)):\n",
    "    \n",
    "    if 0:\n",
    "#         f,axs = plt.subplots(1,2,figsize=(10,5))\n",
    "        \n",
    "#         plot_map_sin(net,ax=axs[0], n_bins=n_out)\n",
    "#         all_sensitivity.append(plot_sensitivity(net,layer=0))\n",
    "#         plt.show()\n",
    "        \n",
    "        plot_external_noise_curve(net, n=30,n_phases=100,ax=ax, layer=0, o=np.pi/2)\n",
    "\n",
    "        \n",
    "    \n",
    "    # make x\n",
    "    orientations = torch.tensor(my_cv.rvs(size=batch), device=\"cuda:0\")\n",
    "#     orientations = torch.rand(batch, device=\"cuda:0\")*np.pi\n",
    "    \n",
    "    ####\n",
    "    optim.zero_grad()\n",
    "    orientation_stim = [sinusoid(10,torch.rand(1, device=\"cuda:0\")*np.pi,o, device='cuda:0') for o in orientations]\n",
    "    orientation_stim = torch.stack(orientation_stim)[:,None].cuda()\n",
    "\n",
    "    \n",
    "    y = discretize(orientations, n_out)\n",
    "    noised_y = noise_labels(y,torch.ones(n_out)\n",
    "                            #inverse_binary_entropy_lookup(h)\n",
    "                           )\n",
    "        \n",
    "    low,mid,o_est = net(orientation_stim)\n",
    "    Y_hat = torch.cat((o_est, torch.zeros(batch,1, device=o_est.device)),dim=1) # don't train the null\n",
    "    \n",
    "    loss = F.nll_loss(Y_hat, noised_y.squeeze())\n",
    "    loss.backward()\n",
    "    optim.step()   \n",
    "    ####\n",
    "    overall_acc = (y==o_est.argmax(1)).sum().float()/batch\n",
    "    for cat in cat_of_interest:\n",
    "        orientations = (torch.rand(2000, device=\"cuda:0\")+cat)*np.pi/60\n",
    "\n",
    "        ####\n",
    "        optim.zero_grad()\n",
    "        orientation_stim = [sinusoid(10,torch.rand(1, device=\"cuda:0\")*np.pi,o, device='cuda:0') for o in orientations]\n",
    "        orientation_stim = torch.stack(orientation_stim)[:,None].cuda()\n",
    "        y = discretize(orientations, n_out)\n",
    "        low,mid,o_est = net(orientation_stim)       \n",
    "        \n",
    "        idx = torch.where(y==cat)[0]\n",
    "        if len(idx)>0:\n",
    "            accuracy_by_category[i,cat] = (y[idx]==o_est[idx].argmax(1)).sum().float()/len(idx)\n",
    "    \n",
    "    \n",
    "    losses.append(overall_acc.item())\n",
    "\n",
    "# plt.show()"
   ]
  },
  {
   "cell_type": "code",
   "execution_count": 95,
   "metadata": {},
   "outputs": [
    {
     "data": {
      "text/plain": [
       "[<matplotlib.lines.Line2D at 0x7fd46acf7a90>]"
      ]
     },
     "execution_count": 95,
     "metadata": {},
     "output_type": "execute_result"
    },
    {
     "data": {
      "image/png": "[encoded data removed]",
      "text/plain": [
       "<Figure size 432x288 with 1 Axes>"
      ]
     },
     "metadata": {},
     "output_type": "display_data"
    }
   ],
   "source": [
    "plt.plot(losses)"
   ]
  },
  {
   "cell_type": "code",
   "execution_count": 97,
   "metadata": {},
   "outputs": [
    {
     "data": {
      "text/plain": [
       "[<matplotlib.lines.Line2D at 0x7fd46ac02d68>]"
      ]
     },
     "execution_count": 97,
     "metadata": {},
     "output_type": "execute_result"
    },
    {
     "data": {
      "image/png": "[encoded data removed]",
      "text/plain": [
       "<Figure size 432x288 with 1 Axes>"
      ]
     },
     "metadata": {},
     "output_type": "display_data"
    }
   ],
   "source": [
    "a = accuracy_by_category[:,0]\n",
    "plt.plot(a)\n",
    "a = accuracy_by_category[:,15]\n",
    "plt.plot(a)\n",
    "a = accuracy_by_category[:,30]\n",
    "plt.plot(a)"
   ]
  },
  {
   "cell_type": "code",
   "execution_count": 37,
   "metadata": {},
   "outputs": [
    {
     "ename": "RuntimeError",
     "evalue": "stack expects a non-empty TensorList",
     "output_type": "error",
     "traceback": [
      "\u001b[0;31m---------------------------------------------------------------------------\u001b[0m",
      "\u001b[0;31mRuntimeError\u001b[0m                              Traceback (most recent call last)",
      "\u001b[0;32m<ipython-input-37-19c79f186a17>\u001b[0m in \u001b[0;36m<module>\u001b[0;34m\u001b[0m\n\u001b[0;32m----> 1\u001b[0;31m \u001b[0mim\u001b[0m \u001b[0;34m=\u001b[0m \u001b[0mtorch\u001b[0m\u001b[0;34m.\u001b[0m\u001b[0mstack\u001b[0m\u001b[0;34m(\u001b[0m\u001b[0mall_sensitivity\u001b[0m\u001b[0;34m)\u001b[0m\u001b[0;34m.\u001b[0m\u001b[0mT\u001b[0m\u001b[0;34m\u001b[0m\u001b[0;34m\u001b[0m\u001b[0m\n\u001b[0m\u001b[1;32m      2\u001b[0m \u001b[0;31m# plt.imshow(im/1e5, extent=(0, 500, 0, 180*5/3), cmap = 'Greys', )\u001b[0m\u001b[0;34m\u001b[0m\u001b[0;34m\u001b[0m\u001b[0;34m\u001b[0m\u001b[0m\n\u001b[1;32m      3\u001b[0m \u001b[0;31m# plt.xlabel(\"Training time\")\u001b[0m\u001b[0;34m\u001b[0m\u001b[0;34m\u001b[0m\u001b[0;34m\u001b[0m\u001b[0m\n\u001b[1;32m      4\u001b[0m \u001b[0;31m# plt.ylabel(\"Orientation\")\u001b[0m\u001b[0;34m\u001b[0m\u001b[0;34m\u001b[0m\u001b[0;34m\u001b[0m\u001b[0m\n\u001b[1;32m      5\u001b[0m \u001b[0;31m# cb = plt.colorbar(shrink=.6, aspect=10, )\u001b[0m\u001b[0;34m\u001b[0m\u001b[0;34m\u001b[0m\u001b[0;34m\u001b[0m\u001b[0m\n",
      "\u001b[0;31mRuntimeError\u001b[0m: stack expects a non-empty TensorList"
     ]
    }
   ],
   "source": [
    "im = torch.stack(all_sensitivity).T\n",
    "# plt.imshow(im/1e5, extent=(0, 500, 0, 180*5/3), cmap = 'Greys', )\n",
    "# plt.xlabel(\"Training time\")\n",
    "# plt.ylabel(\"Orientation\")\n",
    "# cb = plt.colorbar(shrink=.6, aspect=10, )\n",
    "# cb.set_label(label='Sensitivity', fontsize=20, labelpad=10)\n",
    "# plt.tight_layout()\n",
    "# plt.savefig(\"figures/controlled_reading_BA.svg\")\n",
    "# plt.show()\n",
    "\n",
    "plt.imshow(im/1e5, extent=(0, 500, 0, 180*5/3), cmap = 'Blues', vmax=1)\n",
    "plt.xlabel(\"Training time\")\n",
    "plt.ylabel(\"Orientation\")\n",
    "cb = plt.colorbar(shrink=.6, aspect=10, )\n",
    "cb.set_label(label='Sensitivity', fontsize=20, labelpad=10)\n",
    "plt.tight_layout()\n",
    "# plt.savefig(\"figures/controlled_reading_AB.svg\")"
   ]
  },
  {
   "cell_type": "code",
   "execution_count": null,
   "metadata": {},
   "outputs": [],
   "source": [
    "plt.plot(all_sensitivity[-1])\n",
    "# plt.savefig(\"figures/controlled_reading_AB_final_trace.svg\")"
   ]
  },
  {
   "cell_type": "code",
   "execution_count": null,
   "metadata": {},
   "outputs": [],
   "source": [
    "### External noise experiment\n",
    "# At each snapshot we have the zero-noise sensitivity\n"
   ]
  },
  {
   "cell_type": "code",
   "execution_count": null,
   "metadata": {},
   "outputs": [],
   "source": []
  },
  {
   "cell_type": "code",
   "execution_count": null,
   "metadata": {},
   "outputs": [],
   "source": [
    "# BA_sensitivity = torch.stack(all_sensitivity)\n",
    "AB_sensitivity = torch.stack(all_sensitivity)\n",
    "torch.save(AB_sensitivity,\"AB_sensitivity.p\")"
   ]
  },
  {
   "cell_type": "code",
   "execution_count": null,
   "metadata": {},
   "outputs": [],
   "source": [
    "# effect of an exposure burst \n",
    "def train_with_boost(start_boost,end_boost):\n",
    "    n_out = 60\n",
    "    net = FFNet(.05,n_out=n_out).cuda()\n",
    "    optim = torch.optim.SGD(net.parameters(),1)\n",
    "    net.train()\n",
    "    losses = []\n",
    "    batch = 1024\n",
    "\n",
    "    pdf = lambda x: (torch.cos(2*x)+2)/(2*np.pi)\n",
    "    orientations= torch.linspace(0,np.pi,n_out, device=\"cuda:0\")\n",
    "\n",
    "    all_sensitivity = []\n",
    "    for i in tqdm(range(300)):\n",
    "\n",
    "        if i%10==0:\n",
    "\n",
    "            all_sensitivity.append(plot_sensitivity(net,layer=0))\n",
    "\n",
    "        if i < end_boost and i>=start_boost:\n",
    "            orientations = (torch.rand(batch, device=\"cuda:0\")/6 + 5/60)*np.pi\n",
    "        else:\n",
    "            orientations = torch.tensor(my_cv.rvs(size=batch), device=\"cuda:0\")\n",
    "\n",
    "        ####\n",
    "        optim.zero_grad()\n",
    "        orientation_stim = [sinusoid(10,torch.rand(1, device=\"cuda:0\")*np.pi,o, device='cuda:0') for o in orientations]\n",
    "        orientation_stim = torch.stack(orientation_stim)[:,None].cuda()\n",
    "\n",
    "\n",
    "        y = discretize(orientations, n_out)\n",
    "\n",
    "        low,mid,o_est = net(orientation_stim)\n",
    "        Y_hat = torch.cat((o_est, torch.zeros(batch,1, device=o_est.device)),dim=1) # don't train the null\n",
    "\n",
    "        loss = F.nll_loss(Y_hat, y.squeeze())\n",
    "        loss.backward()\n",
    "        optim.step()      \n",
    "    return all_sensitivity"
   ]
  },
  {
   "cell_type": "code",
   "execution_count": null,
   "metadata": {
    "scrolled": true
   },
   "outputs": [],
   "source": [
    "all_ims_output = []\n",
    "for boost_start in range(0,300,30):\n",
    "    boost_end = boost_start + 1\n",
    "    all_sensitivity = train_with_boost(boost_start, boost_end)\n",
    "    im = torch.stack(all_sensitivity).T\n",
    "    all_ims_output.append(im)\n",
    "    \n",
    "    plt.imshow(im/1e5, extent=(0, 300, 0, 180), cmap = 'Blues')\n",
    "    plt.xlabel(\"Training time\")\n",
    "    plt.ylabel(\"Orientation\")\n",
    "    cb = plt.colorbar(shrink=.6, aspect=10, )\n",
    "    cb.set_label(label='Sensitivity', fontsize=20, labelpad=10)\n",
    "    plt.tight_layout()\n",
    "    plt.show()\n",
    "# plt.savefig(\"figures/controlled_reading_AB.svg\")"
   ]
  },
  {
   "cell_type": "code",
   "execution_count": null,
   "metadata": {
    "scrolled": true
   },
   "outputs": [],
   "source": [
    "for j in range(0,60):\n",
    "    cs = sns.color_palette('cubehelix', len(all_ims))\n",
    "    f, axs = plt.subplots(1,2, figsize=(8,4))\n",
    "    for i,im in enumerate(all_ims_output):\n",
    "        axs[0].plot(im[j], c=cs[i])\n",
    "#         axs[0].vlines(k,0,max(im[j]), colors=cs[i], linewidth = 1, linestyle='dashed')\n",
    "#         axs[1].scatter([k],[(im[j,k+1]-im[j,k])], color=cs[i])\n",
    "\n",
    "#     axs[1].set_ylim(1e-4,1e4)\n",
    "    axs[0].set_title(j)\n",
    "    axs[1].set_xscale('log')\n",
    "    axs[1].set_yscale('log')\n",
    "    \n",
    "    \n",
    "#     axs[1].set_xlabel(\"Burst timing\")\n",
    "    \n",
    "    \n",
    "    \n",
    "    plt.show()\n",
    "# all_ims[0].size()"
   ]
  },
  {
   "cell_type": "markdown",
   "metadata": {},
   "source": [
    "## Predictions\n",
    "\n",
    "Rate of change of sensitivity\n",
    "- Depends on current sensitivity as a the difference to the asymptote times the absolute sensitivity to some exponent (can’t say what exponent, though, depends on depth)\n",
    "- Depends on std dev of feature in question – linearly, all else held equal. Could test by observing rate of change of sensitivity before/after changing feature statistics\n",
    "\n",
    "How perceptual sensitivity should change due to supervised tasks\n",
    "- Separable frequency and importance effects – see Fig 5\n",
    "- Gradient starvation - learning stops when task is learned\n",
    "\n",
    "Sensitivity depends on length of exposure to a stimulus ensemble. \n",
    "- In the efficient coding framework, coding capacity increases with age because of more experience, until it reaches the noise ceiling. This is in contrast with previous proposals that internal noise decreases with age.\n",
    "\n",
    "Controlled rearing\n",
    "- Learn on data with some statistics. Then change the statistics and learn for an equal period. Should observe hysteresis: final sensitivity depends on which you did first."
   ]
  },
  {
   "cell_type": "markdown",
   "metadata": {},
   "source": [
    "The problem currently is that **no ceiling of sensitivity is found when the objective is log softmax.** The activations can tend arbitrarily large. This complicates the difference to the asymptote. We could just assume it's uniform?\n",
    "\n"
   ]
  },
  {
   "cell_type": "code",
   "execution_count": null,
   "metadata": {},
   "outputs": [],
   "source": [
    "# first_inv = torch.stack(all_sensitivity)"
   ]
  },
  {
   "cell_type": "code",
   "execution_count": null,
   "metadata": {},
   "outputs": [],
   "source": [
    "for i in range(60):\n",
    "#     plt.plot(torch.stack(all_sensitivity)[:,-1])\n",
    "    plt.plot(torch.stack(all_sensitivity)[:,i])\n",
    "#     plt.xlim(150,350)\n",
    "#     plt.vlines(250, 0,20000)\n",
    "    plt.title(i)\n",
    "    plt.show()"
   ]
  },
  {
   "cell_type": "code",
   "execution_count": null,
   "metadata": {
    "scrolled": true
   },
   "outputs": [],
   "source": [
    "### An RDD approach. Fit lines on either side of transition\n",
    "\n",
    "def get_slope_ratio(sensitivity_series, margin):\n",
    "    m = len(sensitivity_series)//2\n",
    "    left_margin = min(margin, 50)\n",
    "    r = linregress(range(m-left_margin,m), sensitivity_series[m-left_margin:m])\n",
    "    r2 = linregress(range(m+5,m+margin), sensitivity_series[m+5:m+margin])\n",
    "    std_est = r2.slope/r.slope * np.sqrt((r2.stderr/r2.slope)**2 + (r.stderr/r.slope)**2)\n",
    "    return r2.slope/r.slope, std_est\n",
    "\n",
    "for j in range(60):\n",
    "    ls = np.array([get_slope_ratio(torch.stack(all_sensitivity)[:,j], i,) for i in range(7,100)])\n",
    "    plt.plot(ls[:,0])\n",
    "    plt.fill_between(range(7,100), ls[:,0] + ls[:,1], ls[:,0] - ls[:,1], alpha = .2)\n",
    "    plt.xlabel(\"Margin\")\n",
    "    plt.ylabel(r\"$\\lambda_1/\\lambda_2$\")\n",
    "    plt.title(j)\n",
    "    plt.ylim(0,3)\n",
    "    plt.show()"
   ]
  },
  {
   "cell_type": "code",
   "execution_count": null,
   "metadata": {},
   "outputs": [],
   "source": [
    "ls = np.array([get_slope_ratio(torch.stack(all_sensitivity)[:,i], 200,) for i in range(60)])\n",
    "plt.plot(ls[:,0])\n",
    "plt.fill_between(range(60), ls[:,0] + ls[:,1], ls[:,0] - ls[:,1], alpha = .2)\n",
    "plt.xlabel(\"Bin\")\n",
    "plt.ylabel(r\"$\\lambda_1/\\lambda_2$\")\n",
    "plt.ylim(-1,3)\n",
    "plt.grid()\n",
    "\n",
    "p = my_cv_inv._pdf(torch.linspace(0,np.pi,60))\n",
    "std_dev_inv = torch.sqrt(p*(1-p))\n",
    "p = my_cv._pdf(torch.linspace(0,np.pi,60))\n",
    "std_dev = torch.sqrt(p*(1-p))\n",
    "\n",
    "plt.plot(std_dev/std_dev_inv)\n",
    "\n"
   ]
  },
  {
   "cell_type": "code",
   "execution_count": null,
   "metadata": {},
   "outputs": [],
   "source": [
    "import seaborn as sns"
   ]
  },
  {
   "cell_type": "code",
   "execution_count": null,
   "metadata": {},
   "outputs": [],
   "source": [
    "cs = sns.color_palette(\"husl\", 60)"
   ]
  },
  {
   "cell_type": "code",
   "execution_count": null,
   "metadata": {},
   "outputs": [],
   "source": [
    "for i in range(0,60,2\n",
    "              ):\n",
    "    plt.plot(sens_small_init[i,:290].reshape(-1), \n",
    "            F.conv1d(sens_small_init[i].view(1,1,-1), torch.ones(1,1,10)).squeeze().diff().reshape(-1), \n",
    "            alpha=.5, color=cs[i], #s=5,\n",
    "            )\n",
    "# plt.xlim(0,1000)\n",
    "# plt.ylim(-1000,1000)\n",
    "plt.xscale('log')\n",
    "# plt.yscale('log')"
   ]
  },
  {
   "cell_type": "code",
   "execution_count": null,
   "metadata": {},
   "outputs": [],
   "source": [
    "# std dev vs. learning rate @ a given sensitivity\n",
    "p = my_cv._pdf(torch.linspace(0,np.pi,60))\n",
    "std_dev = torch.sqrt(p*(1-p))\n",
    "\n",
    "thresh = 500\n",
    "\n",
    "at_thresh_idx = torch.argmin((sens_small_init[:1000]-thresh).abs(), dim=1)\n",
    "smoothed_sens = F.conv1d(sens_small_init.view(60,1,-1), torch.ones(1,1,10), padding='same').squeeze()\n",
    "lr_at_idx = [s[i] for s,i in zip(smoothed_sens.diff(), at_thresh_idx)]\n",
    "# sens_small_init.diff()[idx]\n",
    "\n",
    "# idx\n",
    "# sens_small_init.size()\n",
    "plt.scatter(std_dev, lr_at_idx)\n",
    "plt.scatter(std_dev, at_thresh_idx)\n"
   ]
  },
  {
   "cell_type": "code",
   "execution_count": null,
   "metadata": {},
   "outputs": [],
   "source": []
  }
 ],
 "metadata": {
  "kernelspec": {
   "display_name": "Python [conda env:.conda-pytorch] *",
   "language": "python",
   "name": "conda-env-.conda-pytorch-py"
  },
  "language_info": {
   "codemirror_mode": {
    "name": "ipython",
    "version": 3
   },
   "file_extension": ".py",
   "mimetype": "text/x-python",
   "name": "python",
   "nbconvert_exporter": "python",
   "pygments_lexer": "ipython3",
   "version": "3.6.12"
  }
 },
 "nbformat": 4,
 "nbformat_minor": 2
}
